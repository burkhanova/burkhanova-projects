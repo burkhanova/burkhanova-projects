{
 "cells": [
  {
   "cell_type": "markdown",
   "metadata": {},
   "source": [
    "![](https://www.pata.org/wp-content/uploads/2014/09/TripAdvisor_Logo-300x119.png)\n",
    "# Predict TripAdvisor Rating\n",
    "\n"
   ]
  },
  {
   "cell_type": "markdown",
   "metadata": {},
   "source": [
    "# import"
   ]
  },
  {
   "cell_type": "code",
   "execution_count": 1,
   "metadata": {
    "_cell_guid": "b1076dfc-b9ad-4769-8c92-a6c4dae69d19",
    "_uuid": "8f2839f25d086af736a60e9eeb907d3b93b6e0e5",
    "execution": {
     "iopub.execute_input": "2021-07-17T18:19:20.278549Z",
     "iopub.status.busy": "2021-07-17T18:19:20.278226Z",
     "iopub.status.idle": "2021-07-17T18:19:22.841326Z",
     "shell.execute_reply": "2021-07-17T18:19:22.840753Z",
     "shell.execute_reply.started": "2021-07-17T18:19:20.278498Z"
    }
   },
   "outputs": [],
   "source": [
    "# This Python 3 environment comes with many helpful analytics libraries installed\n",
    "# It is defined by the kaggle/python docker image: https://github.com/kaggle/docker-python\n",
    "# For example, here's several helpful packages to load in \n",
    "\n",
    "import numpy as np # linear algebra\n",
    "import pandas as pd # data processing, CSV file I/O (e.g. pd.read_csv)\n",
    "from scipy import stats\n",
    "\n",
    "import matplotlib.pyplot as plt\n",
    "import seaborn as sns \n",
    "%matplotlib inline\n",
    "\n",
    "from datetime import datetime, timedelta\n",
    "import re\n",
    "\n",
    "# Загружаем специальный удобный инструмент для разделения датасета:\n",
    "from sklearn.model_selection import train_test_split\n",
    "\n",
    "# Input data files are available in the \"../input/\" directory.\n",
    "# For example, running this (by clicking run or pressing Shift+Enter) will list all files under the input directory\n",
    "\n",
    "import os\n",
    "for dirname, _, filenames in os.walk('/kaggle/input'):\n",
    "    for filename in filenames:\n",
    "        print(os.path.join(dirname, filename))\n",
    "\n",
    "# Any results you write to the current directory are saved as output."
   ]
  },
  {
   "cell_type": "code",
   "execution_count": 2,
   "metadata": {
    "execution": {
     "iopub.execute_input": "2021-07-17T18:19:22.842964Z",
     "iopub.status.busy": "2021-07-17T18:19:22.842627Z",
     "iopub.status.idle": "2021-07-17T18:19:22.846066Z",
     "shell.execute_reply": "2021-07-17T18:19:22.845357Z",
     "shell.execute_reply.started": "2021-07-17T18:19:22.842918Z"
    }
   },
   "outputs": [],
   "source": [
    "# всегда фиксируйте RANDOM_SEED, чтобы ваши эксперименты были воспроизводимы!\n",
    "RANDOM_SEED = 42"
   ]
  },
  {
   "cell_type": "code",
   "execution_count": 3,
   "metadata": {
    "execution": {
     "iopub.execute_input": "2021-07-17T18:19:22.84728Z",
     "iopub.status.busy": "2021-07-17T18:19:22.846927Z",
     "iopub.status.idle": "2021-07-17T18:19:26.02136Z",
     "shell.execute_reply": "2021-07-17T18:19:26.020413Z",
     "shell.execute_reply.started": "2021-07-17T18:19:22.847242Z"
    }
   },
   "outputs": [],
   "source": [
    "# зафиксируем версию пакетов, чтобы эксперименты были воспроизводимы:\n",
    "!pip freeze > requirements.txt"
   ]
  },
  {
   "cell_type": "markdown",
   "metadata": {},
   "source": [
    "# DATA"
   ]
  },
  {
   "cell_type": "code",
   "execution_count": 6,
   "metadata": {
    "_cell_guid": "79c7e3d0-c299-4dcb-8224-4455121ee9b0",
    "_uuid": "d629ff2d2480ee46fbb7e2d37f6b5fab8052498a",
    "execution": {
     "iopub.execute_input": "2021-07-17T18:19:26.022783Z",
     "iopub.status.busy": "2021-07-17T18:19:26.022556Z",
     "iopub.status.idle": "2021-07-17T18:19:26.385728Z",
     "shell.execute_reply": "2021-07-17T18:19:26.384809Z",
     "shell.execute_reply.started": "2021-07-17T18:19:26.022748Z"
    }
   },
   "outputs": [],
   "source": [
    "DATA_DIR = '/kaggle/input/sf-dst-restaurant-rating/'\n",
    "df_train = pd.read_csv('main_task.csv')\n",
    "df_test = pd.read_csv('kaggle_task.csv')\n",
    "sample_submission = pd.read_csv('sample_submission.csv')"
   ]
  },
  {
   "cell_type": "code",
   "execution_count": 7,
   "metadata": {
    "execution": {
     "iopub.execute_input": "2021-07-17T18:19:26.388576Z",
     "iopub.status.busy": "2021-07-17T18:19:26.388295Z",
     "iopub.status.idle": "2021-07-17T18:19:26.419062Z",
     "shell.execute_reply": "2021-07-17T18:19:26.418119Z",
     "shell.execute_reply.started": "2021-07-17T18:19:26.388527Z"
    }
   },
   "outputs": [
    {
     "name": "stdout",
     "output_type": "stream",
     "text": [
      "<class 'pandas.core.frame.DataFrame'>\n",
      "RangeIndex: 40000 entries, 0 to 39999\n",
      "Data columns (total 10 columns):\n",
      " #   Column             Non-Null Count  Dtype  \n",
      "---  ------             --------------  -----  \n",
      " 0   Restaurant_id      40000 non-null  object \n",
      " 1   City               40000 non-null  object \n",
      " 2   Cuisine Style      30717 non-null  object \n",
      " 3   Ranking            40000 non-null  float64\n",
      " 4   Rating             40000 non-null  float64\n",
      " 5   Price Range        26114 non-null  object \n",
      " 6   Number of Reviews  37457 non-null  float64\n",
      " 7   Reviews            40000 non-null  object \n",
      " 8   URL_TA             40000 non-null  object \n",
      " 9   ID_TA              40000 non-null  object \n",
      "dtypes: float64(3), object(7)\n",
      "memory usage: 3.1+ MB\n"
     ]
    }
   ],
   "source": [
    "df_train.info()\n"
   ]
  },
  {
   "cell_type": "code",
   "execution_count": 8,
   "metadata": {
    "execution": {
     "iopub.execute_input": "2021-07-17T18:19:26.421646Z",
     "iopub.status.busy": "2021-07-17T18:19:26.421365Z",
     "iopub.status.idle": "2021-07-17T18:19:26.444173Z",
     "shell.execute_reply": "2021-07-17T18:19:26.443663Z",
     "shell.execute_reply.started": "2021-07-17T18:19:26.421596Z"
    }
   },
   "outputs": [
    {
     "data": {
      "text/html": [
       "<div>\n",
       "<style scoped>\n",
       "    .dataframe tbody tr th:only-of-type {\n",
       "        vertical-align: middle;\n",
       "    }\n",
       "\n",
       "    .dataframe tbody tr th {\n",
       "        vertical-align: top;\n",
       "    }\n",
       "\n",
       "    .dataframe thead th {\n",
       "        text-align: right;\n",
       "    }\n",
       "</style>\n",
       "<table border=\"1\" class=\"dataframe\">\n",
       "  <thead>\n",
       "    <tr style=\"text-align: right;\">\n",
       "      <th></th>\n",
       "      <th>Restaurant_id</th>\n",
       "      <th>City</th>\n",
       "      <th>Cuisine Style</th>\n",
       "      <th>Ranking</th>\n",
       "      <th>Rating</th>\n",
       "      <th>Price Range</th>\n",
       "      <th>Number of Reviews</th>\n",
       "      <th>Reviews</th>\n",
       "      <th>URL_TA</th>\n",
       "      <th>ID_TA</th>\n",
       "    </tr>\n",
       "  </thead>\n",
       "  <tbody>\n",
       "    <tr>\n",
       "      <th>0</th>\n",
       "      <td>id_5569</td>\n",
       "      <td>Paris</td>\n",
       "      <td>['European', 'French', 'International']</td>\n",
       "      <td>5570.0</td>\n",
       "      <td>3.5</td>\n",
       "      <td>$$ - $$$</td>\n",
       "      <td>194.0</td>\n",
       "      <td>[['Good food at your doorstep', 'A good hotel ...</td>\n",
       "      <td>/Restaurant_Review-g187147-d1912643-Reviews-R_...</td>\n",
       "      <td>d1912643</td>\n",
       "    </tr>\n",
       "    <tr>\n",
       "      <th>1</th>\n",
       "      <td>id_1535</td>\n",
       "      <td>Stockholm</td>\n",
       "      <td>NaN</td>\n",
       "      <td>1537.0</td>\n",
       "      <td>4.0</td>\n",
       "      <td>NaN</td>\n",
       "      <td>10.0</td>\n",
       "      <td>[['Unique cuisine', 'Delicious Nepalese food']...</td>\n",
       "      <td>/Restaurant_Review-g189852-d7992032-Reviews-Bu...</td>\n",
       "      <td>d7992032</td>\n",
       "    </tr>\n",
       "    <tr>\n",
       "      <th>2</th>\n",
       "      <td>id_352</td>\n",
       "      <td>London</td>\n",
       "      <td>['Japanese', 'Sushi', 'Asian', 'Grill', 'Veget...</td>\n",
       "      <td>353.0</td>\n",
       "      <td>4.5</td>\n",
       "      <td>$$$$</td>\n",
       "      <td>688.0</td>\n",
       "      <td>[['Catch up with friends', 'Not exceptional'],...</td>\n",
       "      <td>/Restaurant_Review-g186338-d8632781-Reviews-RO...</td>\n",
       "      <td>d8632781</td>\n",
       "    </tr>\n",
       "    <tr>\n",
       "      <th>3</th>\n",
       "      <td>id_3456</td>\n",
       "      <td>Berlin</td>\n",
       "      <td>NaN</td>\n",
       "      <td>3458.0</td>\n",
       "      <td>5.0</td>\n",
       "      <td>NaN</td>\n",
       "      <td>3.0</td>\n",
       "      <td>[[], []]</td>\n",
       "      <td>/Restaurant_Review-g187323-d1358776-Reviews-Es...</td>\n",
       "      <td>d1358776</td>\n",
       "    </tr>\n",
       "    <tr>\n",
       "      <th>4</th>\n",
       "      <td>id_615</td>\n",
       "      <td>Munich</td>\n",
       "      <td>['German', 'Central European', 'Vegetarian Fri...</td>\n",
       "      <td>621.0</td>\n",
       "      <td>4.0</td>\n",
       "      <td>$$ - $$$</td>\n",
       "      <td>84.0</td>\n",
       "      <td>[['Best place to try a Bavarian food', 'Nice b...</td>\n",
       "      <td>/Restaurant_Review-g187309-d6864963-Reviews-Au...</td>\n",
       "      <td>d6864963</td>\n",
       "    </tr>\n",
       "  </tbody>\n",
       "</table>\n",
       "</div>"
      ],
      "text/plain": [
       "  Restaurant_id       City                                      Cuisine Style  \\\n",
       "0       id_5569      Paris            ['European', 'French', 'International']   \n",
       "1       id_1535  Stockholm                                                NaN   \n",
       "2        id_352     London  ['Japanese', 'Sushi', 'Asian', 'Grill', 'Veget...   \n",
       "3       id_3456     Berlin                                                NaN   \n",
       "4        id_615     Munich  ['German', 'Central European', 'Vegetarian Fri...   \n",
       "\n",
       "   Ranking  Rating Price Range  Number of Reviews  \\\n",
       "0   5570.0     3.5    $$ - $$$              194.0   \n",
       "1   1537.0     4.0         NaN               10.0   \n",
       "2    353.0     4.5        $$$$              688.0   \n",
       "3   3458.0     5.0         NaN                3.0   \n",
       "4    621.0     4.0    $$ - $$$               84.0   \n",
       "\n",
       "                                             Reviews  \\\n",
       "0  [['Good food at your doorstep', 'A good hotel ...   \n",
       "1  [['Unique cuisine', 'Delicious Nepalese food']...   \n",
       "2  [['Catch up with friends', 'Not exceptional'],...   \n",
       "3                                           [[], []]   \n",
       "4  [['Best place to try a Bavarian food', 'Nice b...   \n",
       "\n",
       "                                              URL_TA     ID_TA  \n",
       "0  /Restaurant_Review-g187147-d1912643-Reviews-R_...  d1912643  \n",
       "1  /Restaurant_Review-g189852-d7992032-Reviews-Bu...  d7992032  \n",
       "2  /Restaurant_Review-g186338-d8632781-Reviews-RO...  d8632781  \n",
       "3  /Restaurant_Review-g187323-d1358776-Reviews-Es...  d1358776  \n",
       "4  /Restaurant_Review-g187309-d6864963-Reviews-Au...  d6864963  "
      ]
     },
     "execution_count": 8,
     "metadata": {},
     "output_type": "execute_result"
    }
   ],
   "source": [
    "df_train.head(5)"
   ]
  },
  {
   "cell_type": "code",
   "execution_count": 9,
   "metadata": {
    "execution": {
     "iopub.execute_input": "2021-07-17T18:19:26.445325Z",
     "iopub.status.busy": "2021-07-17T18:19:26.445019Z",
     "iopub.status.idle": "2021-07-17T18:19:26.455779Z",
     "shell.execute_reply": "2021-07-17T18:19:26.455081Z",
     "shell.execute_reply.started": "2021-07-17T18:19:26.445291Z"
    }
   },
   "outputs": [
    {
     "name": "stdout",
     "output_type": "stream",
     "text": [
      "<class 'pandas.core.frame.DataFrame'>\n",
      "RangeIndex: 10000 entries, 0 to 9999\n",
      "Data columns (total 9 columns):\n",
      " #   Column             Non-Null Count  Dtype  \n",
      "---  ------             --------------  -----  \n",
      " 0   Restaurant_id      10000 non-null  object \n",
      " 1   City               10000 non-null  object \n",
      " 2   Cuisine Style      7693 non-null   object \n",
      " 3   Ranking            10000 non-null  float64\n",
      " 4   Price Range        6525 non-null   object \n",
      " 5   Number of Reviews  9343 non-null   float64\n",
      " 6   Reviews            9998 non-null   object \n",
      " 7   URL_TA             10000 non-null  object \n",
      " 8   ID_TA              10000 non-null  object \n",
      "dtypes: float64(2), object(7)\n",
      "memory usage: 703.2+ KB\n"
     ]
    }
   ],
   "source": [
    "df_test.info()"
   ]
  },
  {
   "cell_type": "code",
   "execution_count": 10,
   "metadata": {
    "execution": {
     "iopub.execute_input": "2021-07-17T18:19:26.457132Z",
     "iopub.status.busy": "2021-07-17T18:19:26.456775Z",
     "iopub.status.idle": "2021-07-17T18:19:26.470811Z",
     "shell.execute_reply": "2021-07-17T18:19:26.46989Z",
     "shell.execute_reply.started": "2021-07-17T18:19:26.457098Z"
    }
   },
   "outputs": [
    {
     "data": {
      "text/html": [
       "<div>\n",
       "<style scoped>\n",
       "    .dataframe tbody tr th:only-of-type {\n",
       "        vertical-align: middle;\n",
       "    }\n",
       "\n",
       "    .dataframe tbody tr th {\n",
       "        vertical-align: top;\n",
       "    }\n",
       "\n",
       "    .dataframe thead th {\n",
       "        text-align: right;\n",
       "    }\n",
       "</style>\n",
       "<table border=\"1\" class=\"dataframe\">\n",
       "  <thead>\n",
       "    <tr style=\"text-align: right;\">\n",
       "      <th></th>\n",
       "      <th>Restaurant_id</th>\n",
       "      <th>City</th>\n",
       "      <th>Cuisine Style</th>\n",
       "      <th>Ranking</th>\n",
       "      <th>Price Range</th>\n",
       "      <th>Number of Reviews</th>\n",
       "      <th>Reviews</th>\n",
       "      <th>URL_TA</th>\n",
       "      <th>ID_TA</th>\n",
       "    </tr>\n",
       "  </thead>\n",
       "  <tbody>\n",
       "    <tr>\n",
       "      <th>0</th>\n",
       "      <td>id_0</td>\n",
       "      <td>Paris</td>\n",
       "      <td>['Bar', 'Pub']</td>\n",
       "      <td>12963.0</td>\n",
       "      <td>$$ - $$$</td>\n",
       "      <td>4.0</td>\n",
       "      <td>[[], []]</td>\n",
       "      <td>/Restaurant_Review-g187147-d10746918-Reviews-L...</td>\n",
       "      <td>d10746918</td>\n",
       "    </tr>\n",
       "    <tr>\n",
       "      <th>1</th>\n",
       "      <td>id_1</td>\n",
       "      <td>Helsinki</td>\n",
       "      <td>['European', 'Scandinavian', 'Gluten Free Opti...</td>\n",
       "      <td>106.0</td>\n",
       "      <td>$$ - $$$</td>\n",
       "      <td>97.0</td>\n",
       "      <td>[['Very good reviews!', 'Fine dining in Hakani...</td>\n",
       "      <td>/Restaurant_Review-g189934-d6674944-Reviews-Ra...</td>\n",
       "      <td>d6674944</td>\n",
       "    </tr>\n",
       "    <tr>\n",
       "      <th>2</th>\n",
       "      <td>id_2</td>\n",
       "      <td>Edinburgh</td>\n",
       "      <td>['Vegetarian Friendly']</td>\n",
       "      <td>810.0</td>\n",
       "      <td>$$ - $$$</td>\n",
       "      <td>28.0</td>\n",
       "      <td>[['Better than the Links', 'Ivy Black'], ['12/...</td>\n",
       "      <td>/Restaurant_Review-g186525-d13129638-Reviews-B...</td>\n",
       "      <td>d13129638</td>\n",
       "    </tr>\n",
       "    <tr>\n",
       "      <th>3</th>\n",
       "      <td>id_3</td>\n",
       "      <td>London</td>\n",
       "      <td>['Italian', 'Mediterranean', 'European', 'Vege...</td>\n",
       "      <td>1669.0</td>\n",
       "      <td>$$$$</td>\n",
       "      <td>202.0</td>\n",
       "      <td>[['Most exquisite', 'Delicious and authentic']...</td>\n",
       "      <td>/Restaurant_Review-g186338-d680417-Reviews-Qui...</td>\n",
       "      <td>d680417</td>\n",
       "    </tr>\n",
       "    <tr>\n",
       "      <th>4</th>\n",
       "      <td>id_4</td>\n",
       "      <td>Bratislava</td>\n",
       "      <td>['Italian', 'Mediterranean', 'European', 'Seaf...</td>\n",
       "      <td>37.0</td>\n",
       "      <td>$$$$</td>\n",
       "      <td>162.0</td>\n",
       "      <td>[['Always the best in bratislava', 'Very good ...</td>\n",
       "      <td>/Restaurant_Review-g274924-d1112354-Reviews-Ma...</td>\n",
       "      <td>d1112354</td>\n",
       "    </tr>\n",
       "  </tbody>\n",
       "</table>\n",
       "</div>"
      ],
      "text/plain": [
       "  Restaurant_id        City  \\\n",
       "0          id_0       Paris   \n",
       "1          id_1    Helsinki   \n",
       "2          id_2   Edinburgh   \n",
       "3          id_3      London   \n",
       "4          id_4  Bratislava   \n",
       "\n",
       "                                       Cuisine Style  Ranking Price Range  \\\n",
       "0                                     ['Bar', 'Pub']  12963.0    $$ - $$$   \n",
       "1  ['European', 'Scandinavian', 'Gluten Free Opti...    106.0    $$ - $$$   \n",
       "2                            ['Vegetarian Friendly']    810.0    $$ - $$$   \n",
       "3  ['Italian', 'Mediterranean', 'European', 'Vege...   1669.0        $$$$   \n",
       "4  ['Italian', 'Mediterranean', 'European', 'Seaf...     37.0        $$$$   \n",
       "\n",
       "   Number of Reviews                                            Reviews  \\\n",
       "0                4.0                                           [[], []]   \n",
       "1               97.0  [['Very good reviews!', 'Fine dining in Hakani...   \n",
       "2               28.0  [['Better than the Links', 'Ivy Black'], ['12/...   \n",
       "3              202.0  [['Most exquisite', 'Delicious and authentic']...   \n",
       "4              162.0  [['Always the best in bratislava', 'Very good ...   \n",
       "\n",
       "                                              URL_TA      ID_TA  \n",
       "0  /Restaurant_Review-g187147-d10746918-Reviews-L...  d10746918  \n",
       "1  /Restaurant_Review-g189934-d6674944-Reviews-Ra...   d6674944  \n",
       "2  /Restaurant_Review-g186525-d13129638-Reviews-B...  d13129638  \n",
       "3  /Restaurant_Review-g186338-d680417-Reviews-Qui...    d680417  \n",
       "4  /Restaurant_Review-g274924-d1112354-Reviews-Ma...   d1112354  "
      ]
     },
     "execution_count": 10,
     "metadata": {},
     "output_type": "execute_result"
    }
   ],
   "source": [
    "df_test.head(5)"
   ]
  },
  {
   "cell_type": "code",
   "execution_count": 11,
   "metadata": {
    "execution": {
     "iopub.execute_input": "2021-07-17T18:19:26.472089Z",
     "iopub.status.busy": "2021-07-17T18:19:26.471873Z",
     "iopub.status.idle": "2021-07-17T18:19:26.483662Z",
     "shell.execute_reply": "2021-07-17T18:19:26.483009Z",
     "shell.execute_reply.started": "2021-07-17T18:19:26.472051Z"
    }
   },
   "outputs": [
    {
     "data": {
      "text/html": [
       "<div>\n",
       "<style scoped>\n",
       "    .dataframe tbody tr th:only-of-type {\n",
       "        vertical-align: middle;\n",
       "    }\n",
       "\n",
       "    .dataframe tbody tr th {\n",
       "        vertical-align: top;\n",
       "    }\n",
       "\n",
       "    .dataframe thead th {\n",
       "        text-align: right;\n",
       "    }\n",
       "</style>\n",
       "<table border=\"1\" class=\"dataframe\">\n",
       "  <thead>\n",
       "    <tr style=\"text-align: right;\">\n",
       "      <th></th>\n",
       "      <th>Restaurant_id</th>\n",
       "      <th>Rating</th>\n",
       "    </tr>\n",
       "  </thead>\n",
       "  <tbody>\n",
       "    <tr>\n",
       "      <th>0</th>\n",
       "      <td>id_0</td>\n",
       "      <td>2.0</td>\n",
       "    </tr>\n",
       "    <tr>\n",
       "      <th>1</th>\n",
       "      <td>id_1</td>\n",
       "      <td>2.5</td>\n",
       "    </tr>\n",
       "    <tr>\n",
       "      <th>2</th>\n",
       "      <td>id_2</td>\n",
       "      <td>4.0</td>\n",
       "    </tr>\n",
       "    <tr>\n",
       "      <th>3</th>\n",
       "      <td>id_3</td>\n",
       "      <td>1.0</td>\n",
       "    </tr>\n",
       "    <tr>\n",
       "      <th>4</th>\n",
       "      <td>id_4</td>\n",
       "      <td>4.0</td>\n",
       "    </tr>\n",
       "  </tbody>\n",
       "</table>\n",
       "</div>"
      ],
      "text/plain": [
       "  Restaurant_id  Rating\n",
       "0          id_0     2.0\n",
       "1          id_1     2.5\n",
       "2          id_2     4.0\n",
       "3          id_3     1.0\n",
       "4          id_4     4.0"
      ]
     },
     "execution_count": 11,
     "metadata": {},
     "output_type": "execute_result"
    }
   ],
   "source": [
    "sample_submission.head(5)"
   ]
  },
  {
   "cell_type": "code",
   "execution_count": 12,
   "metadata": {
    "execution": {
     "iopub.execute_input": "2021-07-17T18:19:26.48483Z",
     "iopub.status.busy": "2021-07-17T18:19:26.484501Z",
     "iopub.status.idle": "2021-07-17T18:19:26.496868Z",
     "shell.execute_reply": "2021-07-17T18:19:26.496335Z",
     "shell.execute_reply.started": "2021-07-17T18:19:26.484796Z"
    }
   },
   "outputs": [
    {
     "name": "stdout",
     "output_type": "stream",
     "text": [
      "<class 'pandas.core.frame.DataFrame'>\n",
      "RangeIndex: 10000 entries, 0 to 9999\n",
      "Data columns (total 2 columns):\n",
      " #   Column         Non-Null Count  Dtype  \n",
      "---  ------         --------------  -----  \n",
      " 0   Restaurant_id  10000 non-null  object \n",
      " 1   Rating         10000 non-null  float64\n",
      "dtypes: float64(1), object(1)\n",
      "memory usage: 156.4+ KB\n"
     ]
    }
   ],
   "source": [
    "sample_submission.info()"
   ]
  },
  {
   "cell_type": "code",
   "execution_count": 13,
   "metadata": {
    "execution": {
     "iopub.execute_input": "2021-07-17T18:19:26.498076Z",
     "iopub.status.busy": "2021-07-17T18:19:26.497768Z",
     "iopub.status.idle": "2021-07-17T18:19:26.543531Z",
     "shell.execute_reply": "2021-07-17T18:19:26.542625Z",
     "shell.execute_reply.started": "2021-07-17T18:19:26.498042Z"
    }
   },
   "outputs": [],
   "source": [
    "# ВАЖНО! дря корректной обработки признаков объединяем трейн и тест в один датасет\n",
    "df_train['sample'] = 1 # помечаем где у нас трейн\n",
    "df_test['sample'] = 0 # помечаем где у нас тест\n",
    "df_test['Rating'] = 0 # в тесте у нас нет значения Rating, мы его должны предсказать, по этому пока просто заполняем нулями\n",
    "\n",
    "data = df_test.append(df_train, sort=False).reset_index(drop=True) # объединяем"
   ]
  },
  {
   "cell_type": "code",
   "execution_count": 14,
   "metadata": {
    "execution": {
     "iopub.execute_input": "2021-07-17T18:19:26.547379Z",
     "iopub.status.busy": "2021-07-17T18:19:26.547104Z",
     "iopub.status.idle": "2021-07-17T18:19:26.569775Z",
     "shell.execute_reply": "2021-07-17T18:19:26.56906Z",
     "shell.execute_reply.started": "2021-07-17T18:19:26.547327Z"
    }
   },
   "outputs": [
    {
     "name": "stdout",
     "output_type": "stream",
     "text": [
      "<class 'pandas.core.frame.DataFrame'>\n",
      "RangeIndex: 50000 entries, 0 to 49999\n",
      "Data columns (total 11 columns):\n",
      " #   Column             Non-Null Count  Dtype  \n",
      "---  ------             --------------  -----  \n",
      " 0   Restaurant_id      50000 non-null  object \n",
      " 1   City               50000 non-null  object \n",
      " 2   Cuisine Style      38410 non-null  object \n",
      " 3   Ranking            50000 non-null  float64\n",
      " 4   Price Range        32639 non-null  object \n",
      " 5   Number of Reviews  46800 non-null  float64\n",
      " 6   Reviews            49998 non-null  object \n",
      " 7   URL_TA             50000 non-null  object \n",
      " 8   ID_TA              50000 non-null  object \n",
      " 9   sample             50000 non-null  int64  \n",
      " 10  Rating             50000 non-null  float64\n",
      "dtypes: float64(3), int64(1), object(7)\n",
      "memory usage: 4.2+ MB\n"
     ]
    }
   ],
   "source": [
    "data.info()"
   ]
  },
  {
   "cell_type": "markdown",
   "metadata": {},
   "source": [
    "Подробнее по признакам:\n",
    "* City: Город \n",
    "* Cuisine Style: Кухня\n",
    "* Ranking: Ранг ресторана относительно других ресторанов в этом городе\n",
    "* Price Range: Цены в ресторане в 3 категориях\n",
    "* Number of Reviews: Количество отзывов\n",
    "* Reviews: 2 последних отзыва и даты этих отзывов\n",
    "* URL_TA: страница ресторана на 'www.tripadvisor.com' \n",
    "* ID_TA: ID ресторана в TripAdvisor\n",
    "* Rating: Рейтинг ресторана"
   ]
  },
  {
   "cell_type": "code",
   "execution_count": 15,
   "metadata": {
    "execution": {
     "iopub.execute_input": "2021-07-17T18:19:26.571222Z",
     "iopub.status.busy": "2021-07-17T18:19:26.570841Z",
     "iopub.status.idle": "2021-07-17T18:19:26.587545Z",
     "shell.execute_reply": "2021-07-17T18:19:26.586771Z",
     "shell.execute_reply.started": "2021-07-17T18:19:26.571177Z"
    }
   },
   "outputs": [
    {
     "data": {
      "text/html": [
       "<div>\n",
       "<style scoped>\n",
       "    .dataframe tbody tr th:only-of-type {\n",
       "        vertical-align: middle;\n",
       "    }\n",
       "\n",
       "    .dataframe tbody tr th {\n",
       "        vertical-align: top;\n",
       "    }\n",
       "\n",
       "    .dataframe thead th {\n",
       "        text-align: right;\n",
       "    }\n",
       "</style>\n",
       "<table border=\"1\" class=\"dataframe\">\n",
       "  <thead>\n",
       "    <tr style=\"text-align: right;\">\n",
       "      <th></th>\n",
       "      <th>Restaurant_id</th>\n",
       "      <th>City</th>\n",
       "      <th>Cuisine Style</th>\n",
       "      <th>Ranking</th>\n",
       "      <th>Price Range</th>\n",
       "      <th>Number of Reviews</th>\n",
       "      <th>Reviews</th>\n",
       "      <th>URL_TA</th>\n",
       "      <th>ID_TA</th>\n",
       "      <th>sample</th>\n",
       "      <th>Rating</th>\n",
       "    </tr>\n",
       "  </thead>\n",
       "  <tbody>\n",
       "    <tr>\n",
       "      <th>39537</th>\n",
       "      <td>id_4664</td>\n",
       "      <td>Berlin</td>\n",
       "      <td>['German', 'Fast Food']</td>\n",
       "      <td>4666.0</td>\n",
       "      <td>NaN</td>\n",
       "      <td>4.0</td>\n",
       "      <td>[['Tasty sausage', 'Wider selection of Wursts'...</td>\n",
       "      <td>/Restaurant_Review-g187323-d12885121-Reviews-C...</td>\n",
       "      <td>d12885121</td>\n",
       "      <td>1</td>\n",
       "      <td>4.0</td>\n",
       "    </tr>\n",
       "    <tr>\n",
       "      <th>23659</th>\n",
       "      <td>id_5838</td>\n",
       "      <td>Barcelona</td>\n",
       "      <td>NaN</td>\n",
       "      <td>5839.0</td>\n",
       "      <td>NaN</td>\n",
       "      <td>2.0</td>\n",
       "      <td>[[], []]</td>\n",
       "      <td>/Restaurant_Review-g187497-d10042463-Reviews-L...</td>\n",
       "      <td>d10042463</td>\n",
       "      <td>1</td>\n",
       "      <td>4.0</td>\n",
       "    </tr>\n",
       "    <tr>\n",
       "      <th>271</th>\n",
       "      <td>id_271</td>\n",
       "      <td>Paris</td>\n",
       "      <td>NaN</td>\n",
       "      <td>8155.0</td>\n",
       "      <td>NaN</td>\n",
       "      <td>NaN</td>\n",
       "      <td>[[], []]</td>\n",
       "      <td>/Restaurant_Review-g187147-d13326576-Reviews-G...</td>\n",
       "      <td>d13326576</td>\n",
       "      <td>0</td>\n",
       "      <td>0.0</td>\n",
       "    </tr>\n",
       "    <tr>\n",
       "      <th>15906</th>\n",
       "      <td>id_2234</td>\n",
       "      <td>Lisbon</td>\n",
       "      <td>['European', 'Portuguese', 'Seafood']</td>\n",
       "      <td>2237.0</td>\n",
       "      <td>$$ - $$$</td>\n",
       "      <td>68.0</td>\n",
       "      <td>[['Typical for Lisbon', 'A Delicious Gem To Di...</td>\n",
       "      <td>/Restaurant_Review-g189158-d4091101-Reviews-O_...</td>\n",
       "      <td>d4091101</td>\n",
       "      <td>1</td>\n",
       "      <td>4.0</td>\n",
       "    </tr>\n",
       "    <tr>\n",
       "      <th>42219</th>\n",
       "      <td>id_427</td>\n",
       "      <td>Madrid</td>\n",
       "      <td>['International', 'Fusion', 'Vegetarian Friend...</td>\n",
       "      <td>428.0</td>\n",
       "      <td>$$ - $$$</td>\n",
       "      <td>190.0</td>\n",
       "      <td>[['Very good food and wine !', 'Great food in ...</td>\n",
       "      <td>/Restaurant_Review-g187514-d2320681-Reviews-Ca...</td>\n",
       "      <td>d2320681</td>\n",
       "      <td>1</td>\n",
       "      <td>4.0</td>\n",
       "    </tr>\n",
       "  </tbody>\n",
       "</table>\n",
       "</div>"
      ],
      "text/plain": [
       "      Restaurant_id       City  \\\n",
       "39537       id_4664     Berlin   \n",
       "23659       id_5838  Barcelona   \n",
       "271          id_271      Paris   \n",
       "15906       id_2234     Lisbon   \n",
       "42219        id_427     Madrid   \n",
       "\n",
       "                                           Cuisine Style  Ranking Price Range  \\\n",
       "39537                            ['German', 'Fast Food']   4666.0         NaN   \n",
       "23659                                                NaN   5839.0         NaN   \n",
       "271                                                  NaN   8155.0         NaN   \n",
       "15906              ['European', 'Portuguese', 'Seafood']   2237.0    $$ - $$$   \n",
       "42219  ['International', 'Fusion', 'Vegetarian Friend...    428.0    $$ - $$$   \n",
       "\n",
       "       Number of Reviews                                            Reviews  \\\n",
       "39537                4.0  [['Tasty sausage', 'Wider selection of Wursts'...   \n",
       "23659                2.0                                           [[], []]   \n",
       "271                  NaN                                           [[], []]   \n",
       "15906               68.0  [['Typical for Lisbon', 'A Delicious Gem To Di...   \n",
       "42219              190.0  [['Very good food and wine !', 'Great food in ...   \n",
       "\n",
       "                                                  URL_TA      ID_TA  sample  \\\n",
       "39537  /Restaurant_Review-g187323-d12885121-Reviews-C...  d12885121       1   \n",
       "23659  /Restaurant_Review-g187497-d10042463-Reviews-L...  d10042463       1   \n",
       "271    /Restaurant_Review-g187147-d13326576-Reviews-G...  d13326576       0   \n",
       "15906  /Restaurant_Review-g189158-d4091101-Reviews-O_...   d4091101       1   \n",
       "42219  /Restaurant_Review-g187514-d2320681-Reviews-Ca...   d2320681       1   \n",
       "\n",
       "       Rating  \n",
       "39537     4.0  \n",
       "23659     4.0  \n",
       "271       0.0  \n",
       "15906     4.0  \n",
       "42219     4.0  "
      ]
     },
     "execution_count": 15,
     "metadata": {},
     "output_type": "execute_result"
    }
   ],
   "source": [
    "data.sample(5)"
   ]
  },
  {
   "cell_type": "code",
   "execution_count": 16,
   "metadata": {
    "execution": {
     "iopub.execute_input": "2021-07-17T18:19:26.588859Z",
     "iopub.status.busy": "2021-07-17T18:19:26.588513Z",
     "iopub.status.idle": "2021-07-17T18:19:26.599094Z",
     "shell.execute_reply": "2021-07-17T18:19:26.598281Z",
     "shell.execute_reply.started": "2021-07-17T18:19:26.588812Z"
    }
   },
   "outputs": [
    {
     "data": {
      "text/plain": [
       "\"[['Very good reviews!', 'Fine dining in Hakaniemi'], ['12/05/2017', '10/29/2017']]\""
      ]
     },
     "execution_count": 16,
     "metadata": {},
     "output_type": "execute_result"
    }
   ],
   "source": [
    "data.Reviews[1]"
   ]
  },
  {
   "cell_type": "markdown",
   "metadata": {},
   "source": [
    "Как видим, большинство признаков у нас требует очистки и предварительной обработки."
   ]
  },
  {
   "cell_type": "markdown",
   "metadata": {},
   "source": [
    "# Cleaning and Prepping Data\n",
    "Обычно данные содержат в себе кучу мусора, который необходимо почистить, для того чтобы привести их в приемлемый формат. Чистка данных — это необходимый этап решения почти любой реальной задачи.   \n",
    "![](https://analyticsindiamag.com/wp-content/uploads/2018/01/data-cleaning.png)"
   ]
  },
  {
   "cell_type": "markdown",
   "metadata": {},
   "source": [
    "## 1. Обработка NAN \n",
    "У наличия пропусков могут быть разные причины, но пропуски нужно либо заполнить, либо исключить из набора полностью. Но с пропусками нужно быть внимательным, **даже отсутствие информации может быть важным признаком!**   "
   ]
  },
  {
   "cell_type": "code",
   "execution_count": 17,
   "metadata": {
    "execution": {
     "iopub.execute_input": "2021-07-17T18:19:26.600434Z",
     "iopub.status.busy": "2021-07-17T18:19:26.600175Z",
     "iopub.status.idle": "2021-07-17T18:19:26.621203Z",
     "shell.execute_reply": "2021-07-17T18:19:26.620464Z",
     "shell.execute_reply.started": "2021-07-17T18:19:26.600362Z"
    }
   },
   "outputs": [
    {
     "data": {
      "text/plain": [
       "Restaurant_id            0\n",
       "City                     0\n",
       "Cuisine Style        11590\n",
       "Ranking                  0\n",
       "Price Range          17361\n",
       "Number of Reviews     3200\n",
       "Reviews                  2\n",
       "URL_TA                   0\n",
       "ID_TA                    0\n",
       "sample                   0\n",
       "Rating                   0\n",
       "dtype: int64"
      ]
     },
     "execution_count": 17,
     "metadata": {},
     "output_type": "execute_result"
    }
   ],
   "source": [
    "#Посмотрим, в каких колонках и сколько пропусков\n",
    "\n",
    "data.isnull().sum()"
   ]
  },
  {
   "cell_type": "code",
   "execution_count": 18,
   "metadata": {
    "execution": {
     "iopub.execute_input": "2021-07-17T18:19:26.623272Z",
     "iopub.status.busy": "2021-07-17T18:19:26.622929Z",
     "iopub.status.idle": "2021-07-17T18:19:26.628658Z",
     "shell.execute_reply": "2021-07-17T18:19:26.627836Z",
     "shell.execute_reply.started": "2021-07-17T18:19:26.623182Z"
    }
   },
   "outputs": [],
   "source": [
    "# Далее заполняем пропуски нулем, делая предположения, что пропуск означает отсутствие отзывов\n",
    "\n",
    "data['Number of Reviews'].fillna(0, inplace=True)"
   ]
  },
  {
   "cell_type": "markdown",
   "metadata": {},
   "source": [
    "Два нулевых значения в колонке Reviews также заменяем нулем"
   ]
  },
  {
   "cell_type": "code",
   "execution_count": 19,
   "metadata": {
    "execution": {
     "iopub.execute_input": "2021-07-17T18:19:26.629896Z",
     "iopub.status.busy": "2021-07-17T18:19:26.629687Z",
     "iopub.status.idle": "2021-07-17T18:19:26.639573Z",
     "shell.execute_reply": "2021-07-17T18:19:26.638543Z",
     "shell.execute_reply.started": "2021-07-17T18:19:26.629859Z"
    }
   },
   "outputs": [],
   "source": [
    "data['Reviews'].fillna(0, inplace=True)"
   ]
  },
  {
   "cell_type": "code",
   "execution_count": 20,
   "metadata": {
    "execution": {
     "iopub.execute_input": "2021-07-17T18:19:26.640774Z",
     "iopub.status.busy": "2021-07-17T18:19:26.640557Z",
     "iopub.status.idle": "2021-07-17T18:19:26.665496Z",
     "shell.execute_reply": "2021-07-17T18:19:26.664573Z",
     "shell.execute_reply.started": "2021-07-17T18:19:26.640735Z"
    }
   },
   "outputs": [
    {
     "data": {
      "text/plain": [
       "Restaurant_id            0\n",
       "City                     0\n",
       "Cuisine Style        11590\n",
       "Ranking                  0\n",
       "Price Range          17361\n",
       "Number of Reviews        0\n",
       "Reviews                  0\n",
       "URL_TA                   0\n",
       "ID_TA                    0\n",
       "sample                   0\n",
       "Rating                   0\n",
       "dtype: int64"
      ]
     },
     "execution_count": 20,
     "metadata": {},
     "output_type": "execute_result"
    }
   ],
   "source": [
    "data.isnull().sum()"
   ]
  },
  {
   "cell_type": "markdown",
   "metadata": {},
   "source": [
    "Оставшиеся две колонки с пустыми значениями обрабатываем ниже."
   ]
  },
  {
   "cell_type": "markdown",
   "metadata": {},
   "source": [
    "### 2. Обработка признаков\n",
    "Для начала посмотрим какие признаки у нас могут быть категориальными."
   ]
  },
  {
   "cell_type": "code",
   "execution_count": 21,
   "metadata": {
    "execution": {
     "iopub.execute_input": "2021-07-17T18:19:26.667411Z",
     "iopub.status.busy": "2021-07-17T18:19:26.667099Z",
     "iopub.status.idle": "2021-07-17T18:19:26.758294Z",
     "shell.execute_reply": "2021-07-17T18:19:26.757498Z",
     "shell.execute_reply.started": "2021-07-17T18:19:26.667344Z"
    }
   },
   "outputs": [
    {
     "data": {
      "text/plain": [
       "Restaurant_id        13094\n",
       "City                    31\n",
       "Cuisine Style        10732\n",
       "Ranking              12975\n",
       "Price Range              4\n",
       "Number of Reviews     1574\n",
       "Reviews              41858\n",
       "URL_TA               49963\n",
       "ID_TA                49963\n",
       "sample                   2\n",
       "Rating                  10\n",
       "dtype: int64"
      ]
     },
     "execution_count": 21,
     "metadata": {},
     "output_type": "execute_result"
    }
   ],
   "source": [
    "data.nunique(dropna=False)"
   ]
  },
  {
   "cell_type": "markdown",
   "metadata": {},
   "source": [
    "**Price Range**"
   ]
  },
  {
   "cell_type": "code",
   "execution_count": 22,
   "metadata": {
    "execution": {
     "iopub.execute_input": "2021-07-17T18:19:26.760323Z",
     "iopub.status.busy": "2021-07-17T18:19:26.759989Z",
     "iopub.status.idle": "2021-07-17T18:19:26.773238Z",
     "shell.execute_reply": "2021-07-17T18:19:26.772366Z",
     "shell.execute_reply.started": "2021-07-17T18:19:26.760259Z"
    }
   },
   "outputs": [
    {
     "data": {
      "text/plain": [
       "$$ - $$$    23041\n",
       "$            7816\n",
       "$$$$         1782\n",
       "Name: Price Range, dtype: int64"
      ]
     },
     "execution_count": 22,
     "metadata": {},
     "output_type": "execute_result"
    }
   ],
   "source": [
    "data['Price Range'].value_counts()"
   ]
  },
  {
   "cell_type": "markdown",
   "metadata": {},
   "source": [
    "По описанию 'Price Range' это - Цены в ресторане.  \n",
    "Их можно поставить по возрастанию (значит это не категориальный признак). А это значит, что их можно заменить последовательными числами, например 1,2,3  "
   ]
  },
  {
   "cell_type": "code",
   "execution_count": 23,
   "metadata": {
    "execution": {
     "iopub.execute_input": "2021-07-17T18:19:26.775045Z",
     "iopub.status.busy": "2021-07-17T18:19:26.774807Z",
     "iopub.status.idle": "2021-07-17T18:19:26.801376Z",
     "shell.execute_reply": "2021-07-17T18:19:26.800668Z",
     "shell.execute_reply.started": "2021-07-17T18:19:26.775001Z"
    }
   },
   "outputs": [],
   "source": [
    "# Заменим значения на 1, 2 и 3\n",
    "\n",
    "data['Price Range'] = data['Price Range'].apply(\n",
    "    lambda x: 1 if x == '$' else 2 if x == '$$ - $$$' else 3 if x == '$$$$' else x)"
   ]
  },
  {
   "cell_type": "code",
   "execution_count": 24,
   "metadata": {
    "execution": {
     "iopub.execute_input": "2021-07-17T18:19:26.802962Z",
     "iopub.status.busy": "2021-07-17T18:19:26.802644Z",
     "iopub.status.idle": "2021-07-17T18:19:26.827369Z",
     "shell.execute_reply": "2021-07-17T18:19:26.826549Z",
     "shell.execute_reply.started": "2021-07-17T18:19:26.8029Z"
    }
   },
   "outputs": [
    {
     "data": {
      "text/html": [
       "<div>\n",
       "<style scoped>\n",
       "    .dataframe tbody tr th:only-of-type {\n",
       "        vertical-align: middle;\n",
       "    }\n",
       "\n",
       "    .dataframe tbody tr th {\n",
       "        vertical-align: top;\n",
       "    }\n",
       "\n",
       "    .dataframe thead th {\n",
       "        text-align: right;\n",
       "    }\n",
       "</style>\n",
       "<table border=\"1\" class=\"dataframe\">\n",
       "  <thead>\n",
       "    <tr style=\"text-align: right;\">\n",
       "      <th></th>\n",
       "      <th>Restaurant_id</th>\n",
       "      <th>City</th>\n",
       "      <th>Cuisine Style</th>\n",
       "      <th>Ranking</th>\n",
       "      <th>Price Range</th>\n",
       "      <th>Number of Reviews</th>\n",
       "      <th>Reviews</th>\n",
       "      <th>URL_TA</th>\n",
       "      <th>ID_TA</th>\n",
       "      <th>sample</th>\n",
       "      <th>Rating</th>\n",
       "    </tr>\n",
       "  </thead>\n",
       "  <tbody>\n",
       "    <tr>\n",
       "      <th>0</th>\n",
       "      <td>id_0</td>\n",
       "      <td>Paris</td>\n",
       "      <td>['Bar', 'Pub']</td>\n",
       "      <td>12963.0</td>\n",
       "      <td>2.0</td>\n",
       "      <td>4.0</td>\n",
       "      <td>[[], []]</td>\n",
       "      <td>/Restaurant_Review-g187147-d10746918-Reviews-L...</td>\n",
       "      <td>d10746918</td>\n",
       "      <td>0</td>\n",
       "      <td>0.0</td>\n",
       "    </tr>\n",
       "    <tr>\n",
       "      <th>1</th>\n",
       "      <td>id_1</td>\n",
       "      <td>Helsinki</td>\n",
       "      <td>['European', 'Scandinavian', 'Gluten Free Opti...</td>\n",
       "      <td>106.0</td>\n",
       "      <td>2.0</td>\n",
       "      <td>97.0</td>\n",
       "      <td>[['Very good reviews!', 'Fine dining in Hakani...</td>\n",
       "      <td>/Restaurant_Review-g189934-d6674944-Reviews-Ra...</td>\n",
       "      <td>d6674944</td>\n",
       "      <td>0</td>\n",
       "      <td>0.0</td>\n",
       "    </tr>\n",
       "    <tr>\n",
       "      <th>2</th>\n",
       "      <td>id_2</td>\n",
       "      <td>Edinburgh</td>\n",
       "      <td>['Vegetarian Friendly']</td>\n",
       "      <td>810.0</td>\n",
       "      <td>2.0</td>\n",
       "      <td>28.0</td>\n",
       "      <td>[['Better than the Links', 'Ivy Black'], ['12/...</td>\n",
       "      <td>/Restaurant_Review-g186525-d13129638-Reviews-B...</td>\n",
       "      <td>d13129638</td>\n",
       "      <td>0</td>\n",
       "      <td>0.0</td>\n",
       "    </tr>\n",
       "    <tr>\n",
       "      <th>3</th>\n",
       "      <td>id_3</td>\n",
       "      <td>London</td>\n",
       "      <td>['Italian', 'Mediterranean', 'European', 'Vege...</td>\n",
       "      <td>1669.0</td>\n",
       "      <td>3.0</td>\n",
       "      <td>202.0</td>\n",
       "      <td>[['Most exquisite', 'Delicious and authentic']...</td>\n",
       "      <td>/Restaurant_Review-g186338-d680417-Reviews-Qui...</td>\n",
       "      <td>d680417</td>\n",
       "      <td>0</td>\n",
       "      <td>0.0</td>\n",
       "    </tr>\n",
       "    <tr>\n",
       "      <th>4</th>\n",
       "      <td>id_4</td>\n",
       "      <td>Bratislava</td>\n",
       "      <td>['Italian', 'Mediterranean', 'European', 'Seaf...</td>\n",
       "      <td>37.0</td>\n",
       "      <td>3.0</td>\n",
       "      <td>162.0</td>\n",
       "      <td>[['Always the best in bratislava', 'Very good ...</td>\n",
       "      <td>/Restaurant_Review-g274924-d1112354-Reviews-Ma...</td>\n",
       "      <td>d1112354</td>\n",
       "      <td>0</td>\n",
       "      <td>0.0</td>\n",
       "    </tr>\n",
       "    <tr>\n",
       "      <th>...</th>\n",
       "      <td>...</td>\n",
       "      <td>...</td>\n",
       "      <td>...</td>\n",
       "      <td>...</td>\n",
       "      <td>...</td>\n",
       "      <td>...</td>\n",
       "      <td>...</td>\n",
       "      <td>...</td>\n",
       "      <td>...</td>\n",
       "      <td>...</td>\n",
       "      <td>...</td>\n",
       "    </tr>\n",
       "    <tr>\n",
       "      <th>49995</th>\n",
       "      <td>id_499</td>\n",
       "      <td>Milan</td>\n",
       "      <td>['Italian', 'Vegetarian Friendly', 'Vegan Opti...</td>\n",
       "      <td>500.0</td>\n",
       "      <td>2.0</td>\n",
       "      <td>79.0</td>\n",
       "      <td>[['The real Italian experience!', 'Wonderful f...</td>\n",
       "      <td>/Restaurant_Review-g187849-d2104414-Reviews-Ro...</td>\n",
       "      <td>d2104414</td>\n",
       "      <td>1</td>\n",
       "      <td>4.5</td>\n",
       "    </tr>\n",
       "    <tr>\n",
       "      <th>49996</th>\n",
       "      <td>id_6340</td>\n",
       "      <td>Paris</td>\n",
       "      <td>['French', 'American', 'Bar', 'European', 'Veg...</td>\n",
       "      <td>6341.0</td>\n",
       "      <td>2.0</td>\n",
       "      <td>542.0</td>\n",
       "      <td>[['Parisian atmosphere', 'Bit pricey but inter...</td>\n",
       "      <td>/Restaurant_Review-g187147-d1800036-Reviews-La...</td>\n",
       "      <td>d1800036</td>\n",
       "      <td>1</td>\n",
       "      <td>3.5</td>\n",
       "    </tr>\n",
       "    <tr>\n",
       "      <th>49997</th>\n",
       "      <td>id_1649</td>\n",
       "      <td>Stockholm</td>\n",
       "      <td>['Japanese', 'Sushi']</td>\n",
       "      <td>1652.0</td>\n",
       "      <td>NaN</td>\n",
       "      <td>4.0</td>\n",
       "      <td>[['Good by swedish standards', 'A hidden jewel...</td>\n",
       "      <td>/Restaurant_Review-g189852-d947615-Reviews-Sus...</td>\n",
       "      <td>d947615</td>\n",
       "      <td>1</td>\n",
       "      <td>4.5</td>\n",
       "    </tr>\n",
       "    <tr>\n",
       "      <th>49998</th>\n",
       "      <td>id_640</td>\n",
       "      <td>Warsaw</td>\n",
       "      <td>['Polish', 'European', 'Eastern European', 'Ce...</td>\n",
       "      <td>641.0</td>\n",
       "      <td>2.0</td>\n",
       "      <td>70.0</td>\n",
       "      <td>[['Underground restaurant', 'Oldest Restaurant...</td>\n",
       "      <td>/Restaurant_Review-g274856-d1100838-Reviews-Ho...</td>\n",
       "      <td>d1100838</td>\n",
       "      <td>1</td>\n",
       "      <td>4.0</td>\n",
       "    </tr>\n",
       "    <tr>\n",
       "      <th>49999</th>\n",
       "      <td>id_4824</td>\n",
       "      <td>Milan</td>\n",
       "      <td>['Spanish']</td>\n",
       "      <td>4827.0</td>\n",
       "      <td>2.0</td>\n",
       "      <td>260.0</td>\n",
       "      <td>[['Average', 'Nice an informal'], ['01/31/2016...</td>\n",
       "      <td>/Restaurant_Review-g187849-d1109020-Reviews-Ta...</td>\n",
       "      <td>d1109020</td>\n",
       "      <td>1</td>\n",
       "      <td>3.0</td>\n",
       "    </tr>\n",
       "  </tbody>\n",
       "</table>\n",
       "<p>50000 rows × 11 columns</p>\n",
       "</div>"
      ],
      "text/plain": [
       "      Restaurant_id        City  \\\n",
       "0              id_0       Paris   \n",
       "1              id_1    Helsinki   \n",
       "2              id_2   Edinburgh   \n",
       "3              id_3      London   \n",
       "4              id_4  Bratislava   \n",
       "...             ...         ...   \n",
       "49995        id_499       Milan   \n",
       "49996       id_6340       Paris   \n",
       "49997       id_1649   Stockholm   \n",
       "49998        id_640      Warsaw   \n",
       "49999       id_4824       Milan   \n",
       "\n",
       "                                           Cuisine Style  Ranking  \\\n",
       "0                                         ['Bar', 'Pub']  12963.0   \n",
       "1      ['European', 'Scandinavian', 'Gluten Free Opti...    106.0   \n",
       "2                                ['Vegetarian Friendly']    810.0   \n",
       "3      ['Italian', 'Mediterranean', 'European', 'Vege...   1669.0   \n",
       "4      ['Italian', 'Mediterranean', 'European', 'Seaf...     37.0   \n",
       "...                                                  ...      ...   \n",
       "49995  ['Italian', 'Vegetarian Friendly', 'Vegan Opti...    500.0   \n",
       "49996  ['French', 'American', 'Bar', 'European', 'Veg...   6341.0   \n",
       "49997                              ['Japanese', 'Sushi']   1652.0   \n",
       "49998  ['Polish', 'European', 'Eastern European', 'Ce...    641.0   \n",
       "49999                                        ['Spanish']   4827.0   \n",
       "\n",
       "       Price Range  Number of Reviews  \\\n",
       "0              2.0                4.0   \n",
       "1              2.0               97.0   \n",
       "2              2.0               28.0   \n",
       "3              3.0              202.0   \n",
       "4              3.0              162.0   \n",
       "...            ...                ...   \n",
       "49995          2.0               79.0   \n",
       "49996          2.0              542.0   \n",
       "49997          NaN                4.0   \n",
       "49998          2.0               70.0   \n",
       "49999          2.0              260.0   \n",
       "\n",
       "                                                 Reviews  \\\n",
       "0                                               [[], []]   \n",
       "1      [['Very good reviews!', 'Fine dining in Hakani...   \n",
       "2      [['Better than the Links', 'Ivy Black'], ['12/...   \n",
       "3      [['Most exquisite', 'Delicious and authentic']...   \n",
       "4      [['Always the best in bratislava', 'Very good ...   \n",
       "...                                                  ...   \n",
       "49995  [['The real Italian experience!', 'Wonderful f...   \n",
       "49996  [['Parisian atmosphere', 'Bit pricey but inter...   \n",
       "49997  [['Good by swedish standards', 'A hidden jewel...   \n",
       "49998  [['Underground restaurant', 'Oldest Restaurant...   \n",
       "49999  [['Average', 'Nice an informal'], ['01/31/2016...   \n",
       "\n",
       "                                                  URL_TA      ID_TA  sample  \\\n",
       "0      /Restaurant_Review-g187147-d10746918-Reviews-L...  d10746918       0   \n",
       "1      /Restaurant_Review-g189934-d6674944-Reviews-Ra...   d6674944       0   \n",
       "2      /Restaurant_Review-g186525-d13129638-Reviews-B...  d13129638       0   \n",
       "3      /Restaurant_Review-g186338-d680417-Reviews-Qui...    d680417       0   \n",
       "4      /Restaurant_Review-g274924-d1112354-Reviews-Ma...   d1112354       0   \n",
       "...                                                  ...        ...     ...   \n",
       "49995  /Restaurant_Review-g187849-d2104414-Reviews-Ro...   d2104414       1   \n",
       "49996  /Restaurant_Review-g187147-d1800036-Reviews-La...   d1800036       1   \n",
       "49997  /Restaurant_Review-g189852-d947615-Reviews-Sus...    d947615       1   \n",
       "49998  /Restaurant_Review-g274856-d1100838-Reviews-Ho...   d1100838       1   \n",
       "49999  /Restaurant_Review-g187849-d1109020-Reviews-Ta...   d1109020       1   \n",
       "\n",
       "       Rating  \n",
       "0         0.0  \n",
       "1         0.0  \n",
       "2         0.0  \n",
       "3         0.0  \n",
       "4         0.0  \n",
       "...       ...  \n",
       "49995     4.5  \n",
       "49996     3.5  \n",
       "49997     4.5  \n",
       "49998     4.0  \n",
       "49999     3.0  \n",
       "\n",
       "[50000 rows x 11 columns]"
      ]
     },
     "execution_count": 24,
     "metadata": {},
     "output_type": "execute_result"
    }
   ],
   "source": [
    "data"
   ]
  },
  {
   "cell_type": "code",
   "execution_count": 25,
   "metadata": {
    "execution": {
     "iopub.execute_input": "2021-07-17T18:19:26.829206Z",
     "iopub.status.busy": "2021-07-17T18:19:26.828881Z",
     "iopub.status.idle": "2021-07-17T18:19:26.867099Z",
     "shell.execute_reply": "2021-07-17T18:19:26.866536Z",
     "shell.execute_reply.started": "2021-07-17T18:19:26.829146Z"
    }
   },
   "outputs": [],
   "source": [
    "#Заменим пропуски на моду по городам \n",
    "\n",
    "data['Price Range'] = data.groupby('City')['Price Range'].apply(lambda x: x.fillna(stats.mode(x)[0][0]))\n"
   ]
  },
  {
   "cell_type": "markdown",
   "metadata": {},
   "source": [
    "Проверим, заполнили ли мы пустые значения"
   ]
  },
  {
   "cell_type": "code",
   "execution_count": 26,
   "metadata": {
    "execution": {
     "iopub.execute_input": "2021-07-17T18:19:26.868288Z",
     "iopub.status.busy": "2021-07-17T18:19:26.867994Z",
     "iopub.status.idle": "2021-07-17T18:19:26.887978Z",
     "shell.execute_reply": "2021-07-17T18:19:26.887174Z",
     "shell.execute_reply.started": "2021-07-17T18:19:26.868255Z"
    }
   },
   "outputs": [
    {
     "data": {
      "text/plain": [
       "Restaurant_id            0\n",
       "City                     0\n",
       "Cuisine Style        11590\n",
       "Ranking                  0\n",
       "Price Range              0\n",
       "Number of Reviews        0\n",
       "Reviews                  0\n",
       "URL_TA                   0\n",
       "ID_TA                    0\n",
       "sample                   0\n",
       "Rating                   0\n",
       "dtype: int64"
      ]
     },
     "execution_count": 26,
     "metadata": {},
     "output_type": "execute_result"
    }
   ],
   "source": [
    "data.isnull().sum()"
   ]
  },
  {
   "cell_type": "markdown",
   "metadata": {},
   "source": [
    "**Restaurant_id** и **URL_TA**"
   ]
  },
  {
   "cell_type": "code",
   "execution_count": 27,
   "metadata": {
    "execution": {
     "iopub.execute_input": "2021-07-17T18:19:26.891488Z",
     "iopub.status.busy": "2021-07-17T18:19:26.89121Z",
     "iopub.status.idle": "2021-07-17T18:19:26.902339Z",
     "shell.execute_reply": "2021-07-17T18:19:26.90123Z",
     "shell.execute_reply.started": "2021-07-17T18:19:26.891434Z"
    }
   },
   "outputs": [],
   "source": [
    "#Удалим эти колонки, так как они не несут никакой важной, на наш взгляд, информации\n",
    "\n",
    "data.drop(['Restaurant_id', 'URL_TA'], axis = 1, inplace = True)"
   ]
  },
  {
   "cell_type": "markdown",
   "metadata": {},
   "source": [
    "**Cuisine Style**"
   ]
  },
  {
   "cell_type": "code",
   "execution_count": 28,
   "metadata": {
    "execution": {
     "iopub.execute_input": "2021-07-17T18:19:26.904236Z",
     "iopub.status.busy": "2021-07-17T18:19:26.903776Z",
     "iopub.status.idle": "2021-07-17T18:19:26.913779Z",
     "shell.execute_reply": "2021-07-17T18:19:26.913007Z",
     "shell.execute_reply.started": "2021-07-17T18:19:26.904043Z"
    }
   },
   "outputs": [
    {
     "data": {
      "text/plain": [
       "0                                           ['Bar', 'Pub']\n",
       "1        ['European', 'Scandinavian', 'Gluten Free Opti...\n",
       "2                                  ['Vegetarian Friendly']\n",
       "3        ['Italian', 'Mediterranean', 'European', 'Vege...\n",
       "4        ['Italian', 'Mediterranean', 'European', 'Seaf...\n",
       "                               ...                        \n",
       "49995    ['Italian', 'Vegetarian Friendly', 'Vegan Opti...\n",
       "49996    ['French', 'American', 'Bar', 'European', 'Veg...\n",
       "49997                                ['Japanese', 'Sushi']\n",
       "49998    ['Polish', 'European', 'Eastern European', 'Ce...\n",
       "49999                                          ['Spanish']\n",
       "Name: Cuisine Style, Length: 50000, dtype: object"
      ]
     },
     "execution_count": 28,
     "metadata": {},
     "output_type": "execute_result"
    }
   ],
   "source": [
    "data['Cuisine Style']"
   ]
  },
  {
   "cell_type": "markdown",
   "metadata": {},
   "source": [
    "Как мы видим, нужно удалить скобки и ковычки, разделить виды кухонь, а также создать дополнительный столбец с количеством кухонь в одном ресторане. Сделаем предположение, что пропуск означает 1 кухню (может, это ресторан опреденной кухни)."
   ]
  },
  {
   "cell_type": "code",
   "execution_count": 29,
   "metadata": {
    "execution": {
     "iopub.execute_input": "2021-07-17T18:19:26.915214Z",
     "iopub.status.busy": "2021-07-17T18:19:26.914935Z",
     "iopub.status.idle": "2021-07-17T18:19:27.051521Z",
     "shell.execute_reply": "2021-07-17T18:19:27.05048Z",
     "shell.execute_reply.started": "2021-07-17T18:19:26.915164Z"
    }
   },
   "outputs": [],
   "source": [
    "data['Cuisine Style'].fillna('[]', inplace=True)\n",
    "\n",
    "data['Cuisine Style'] = data['Cuisine Style'].apply(\n",
    "    lambda x: str(x).replace('[', '').replace(']', '').replace(\"'\", '').replace(' ', '').replace('\"', ''))\n",
    "\n",
    "data['Cuisine Style'] = data['Cuisine Style'].apply(lambda x: x.split(','))\n",
    "\n",
    "data['Number of Cuisine Styles'] = data['Cuisine Style'].apply(lambda x: len(x))"
   ]
  },
  {
   "cell_type": "markdown",
   "metadata": {},
   "source": [
    "Опять проверим"
   ]
  },
  {
   "cell_type": "code",
   "execution_count": 30,
   "metadata": {
    "execution": {
     "iopub.execute_input": "2021-07-17T18:19:27.053409Z",
     "iopub.status.busy": "2021-07-17T18:19:27.05292Z",
     "iopub.status.idle": "2021-07-17T18:19:27.071982Z",
     "shell.execute_reply": "2021-07-17T18:19:27.071001Z",
     "shell.execute_reply.started": "2021-07-17T18:19:27.053193Z"
    }
   },
   "outputs": [
    {
     "data": {
      "text/plain": [
       "City                        0\n",
       "Cuisine Style               0\n",
       "Ranking                     0\n",
       "Price Range                 0\n",
       "Number of Reviews           0\n",
       "Reviews                     0\n",
       "ID_TA                       0\n",
       "sample                      0\n",
       "Rating                      0\n",
       "Number of Cuisine Styles    0\n",
       "dtype: int64"
      ]
     },
     "execution_count": 30,
     "metadata": {},
     "output_type": "execute_result"
    }
   ],
   "source": [
    "data.isnull().sum()"
   ]
  },
  {
   "cell_type": "markdown",
   "metadata": {},
   "source": [
    "**Ranking**\n",
    "\n",
    "Нормируем по городам"
   ]
  },
  {
   "cell_type": "code",
   "execution_count": 31,
   "metadata": {
    "execution": {
     "iopub.execute_input": "2021-07-17T18:19:27.073355Z",
     "iopub.status.busy": "2021-07-17T18:19:27.073116Z",
     "iopub.status.idle": "2021-07-17T18:19:27.2282Z",
     "shell.execute_reply": "2021-07-17T18:19:27.22729Z",
     "shell.execute_reply.started": "2021-07-17T18:19:27.073309Z"
    }
   },
   "outputs": [],
   "source": [
    "data['Ranking'] = data.groupby('City')['Ranking'].apply(lambda x: x/x.max())\n",
    "\n"
   ]
  },
  {
   "cell_type": "markdown",
   "metadata": {},
   "source": [
    "**Reviews**"
   ]
  },
  {
   "cell_type": "code",
   "execution_count": 32,
   "metadata": {
    "execution": {
     "iopub.execute_input": "2021-07-17T18:19:27.230055Z",
     "iopub.status.busy": "2021-07-17T18:19:27.229749Z",
     "iopub.status.idle": "2021-07-17T18:19:27.239944Z",
     "shell.execute_reply": "2021-07-17T18:19:27.239004Z",
     "shell.execute_reply.started": "2021-07-17T18:19:27.230005Z"
    }
   },
   "outputs": [
    {
     "data": {
      "text/plain": [
       "0                                                 [[], []]\n",
       "1        [['Very good reviews!', 'Fine dining in Hakani...\n",
       "2        [['Better than the Links', 'Ivy Black'], ['12/...\n",
       "3        [['Most exquisite', 'Delicious and authentic']...\n",
       "4        [['Always the best in bratislava', 'Very good ...\n",
       "                               ...                        \n",
       "49995    [['The real Italian experience!', 'Wonderful f...\n",
       "49996    [['Parisian atmosphere', 'Bit pricey but inter...\n",
       "49997    [['Good by swedish standards', 'A hidden jewel...\n",
       "49998    [['Underground restaurant', 'Oldest Restaurant...\n",
       "49999    [['Average', 'Nice an informal'], ['01/31/2016...\n",
       "Name: Reviews, Length: 50000, dtype: object"
      ]
     },
     "execution_count": 32,
     "metadata": {},
     "output_type": "execute_result"
    }
   ],
   "source": [
    "data['Reviews']\n"
   ]
  },
  {
   "cell_type": "markdown",
   "metadata": {},
   "source": [
    "Нужно будет привести эту колонку в более удобный формат"
   ]
  },
  {
   "cell_type": "code",
   "execution_count": 33,
   "metadata": {
    "execution": {
     "iopub.execute_input": "2021-07-17T18:19:27.241843Z",
     "iopub.status.busy": "2021-07-17T18:19:27.241395Z",
     "iopub.status.idle": "2021-07-17T18:19:27.352126Z",
     "shell.execute_reply": "2021-07-17T18:19:27.351356Z",
     "shell.execute_reply.started": "2021-07-17T18:19:27.241774Z"
    }
   },
   "outputs": [],
   "source": [
    "data['Reviews'] = data['Reviews'].apply(lambda x: str(x).replace('[',''))\n",
    "data['Reviews'] = data['Reviews'].apply(lambda x: str(x).replace(']',''))\n",
    "data['Reviews'] = data['Reviews'].apply(lambda x: str(x).replace(' ',''))"
   ]
  },
  {
   "cell_type": "code",
   "execution_count": 34,
   "metadata": {
    "execution": {
     "iopub.execute_input": "2021-07-17T18:19:27.353421Z",
     "iopub.status.busy": "2021-07-17T18:19:27.353184Z",
     "iopub.status.idle": "2021-07-17T18:19:27.51903Z",
     "shell.execute_reply": "2021-07-17T18:19:27.518395Z",
     "shell.execute_reply.started": "2021-07-17T18:19:27.353362Z"
    }
   },
   "outputs": [
    {
     "data": {
      "text/plain": [
       "0                              []\n",
       "1        [12/05/2017, 10/29/2017]\n",
       "2        [12/28/2017, 12/06/2017]\n",
       "3        [12/06/2017, 11/22/2017]\n",
       "4        [02/08/2018, 01/24/2018]\n",
       "                   ...           \n",
       "49995    [12/16/2017, 11/12/2017]\n",
       "49996    [12/21/2017, 12/12/2017]\n",
       "49997    [11/03/2016, 04/12/2008]\n",
       "49998    [07/11/2017, 06/18/2017]\n",
       "49999    [01/31/2016, 07/04/2012]\n",
       "Name: date_of_Review, Length: 50000, dtype: object"
      ]
     },
     "execution_count": 34,
     "metadata": {},
     "output_type": "execute_result"
    }
   ],
   "source": [
    "#создадим новый столбец date_of_Review\n",
    "\n",
    "data['date_of_Review'] = data['Reviews'].str.findall('\\d+/\\d+/\\d+')\n",
    "\n",
    "data['date_of_Review']"
   ]
  },
  {
   "cell_type": "markdown",
   "metadata": {},
   "source": [
    "Раделилим этот столбец на дату первого отзыва и дату последнего, затем создадим новую колонку с разницей между этими отзывами (в днях)"
   ]
  },
  {
   "cell_type": "code",
   "execution_count": 35,
   "metadata": {
    "execution": {
     "iopub.execute_input": "2021-07-17T18:19:27.520114Z",
     "iopub.status.busy": "2021-07-17T18:19:27.519917Z",
     "iopub.status.idle": "2021-07-17T18:19:50.687043Z",
     "shell.execute_reply": "2021-07-17T18:19:50.686356Z",
     "shell.execute_reply.started": "2021-07-17T18:19:27.520083Z"
    }
   },
   "outputs": [],
   "source": [
    "data['first_review'] = data['date_of_Review'].apply(lambda x: pd.to_datetime(x).min())\n",
    "\n"
   ]
  },
  {
   "cell_type": "code",
   "execution_count": 36,
   "metadata": {
    "execution": {
     "iopub.execute_input": "2021-07-17T18:19:50.688283Z",
     "iopub.status.busy": "2021-07-17T18:19:50.687973Z",
     "iopub.status.idle": "2021-07-17T18:20:13.566041Z",
     "shell.execute_reply": "2021-07-17T18:20:13.565374Z",
     "shell.execute_reply.started": "2021-07-17T18:19:50.688247Z"
    }
   },
   "outputs": [],
   "source": [
    "data['last_review'] = data['date_of_Review'].apply(lambda x: pd.to_datetime(x).max())"
   ]
  },
  {
   "cell_type": "code",
   "execution_count": 37,
   "metadata": {
    "execution": {
     "iopub.execute_input": "2021-07-17T18:20:13.570418Z",
     "iopub.status.busy": "2021-07-17T18:20:13.570062Z",
     "iopub.status.idle": "2021-07-17T18:20:13.95102Z",
     "shell.execute_reply": "2021-07-17T18:20:13.950374Z",
     "shell.execute_reply.started": "2021-07-17T18:20:13.570367Z"
    }
   },
   "outputs": [],
   "source": [
    "data['date_of_Review_difference'] = (data['last_review'] - data['first_review']).apply(lambda x: x.days)"
   ]
  },
  {
   "cell_type": "markdown",
   "metadata": {},
   "source": [
    "Теперь заменим пропуски на округленное среднее значение"
   ]
  },
  {
   "cell_type": "code",
   "execution_count": 38,
   "metadata": {
    "execution": {
     "iopub.execute_input": "2021-07-17T18:20:13.95323Z",
     "iopub.status.busy": "2021-07-17T18:20:13.952862Z",
     "iopub.status.idle": "2021-07-17T18:20:13.959592Z",
     "shell.execute_reply": "2021-07-17T18:20:13.958461Z",
     "shell.execute_reply.started": "2021-07-17T18:20:13.953162Z"
    }
   },
   "outputs": [],
   "source": [
    "data['date_of_Review_difference'].fillna(round(data['date_of_Review_difference'].mean()), inplace=True)"
   ]
  },
  {
   "cell_type": "code",
   "execution_count": 39,
   "metadata": {
    "execution": {
     "iopub.execute_input": "2021-07-17T18:20:13.961062Z",
     "iopub.status.busy": "2021-07-17T18:20:13.960744Z",
     "iopub.status.idle": "2021-07-17T18:20:13.989865Z",
     "shell.execute_reply": "2021-07-17T18:20:13.988855Z",
     "shell.execute_reply.started": "2021-07-17T18:20:13.960924Z"
    }
   },
   "outputs": [],
   "source": [
    "#удалим first_review и last_review\n",
    "\n",
    "data.drop(['first_review','last_review'], axis=1, inplace=True)"
   ]
  },
  {
   "cell_type": "code",
   "execution_count": 40,
   "metadata": {
    "execution": {
     "iopub.execute_input": "2021-07-17T18:20:13.991961Z",
     "iopub.status.busy": "2021-07-17T18:20:13.991466Z",
     "iopub.status.idle": "2021-07-17T18:20:14.031033Z",
     "shell.execute_reply": "2021-07-17T18:20:14.030351Z",
     "shell.execute_reply.started": "2021-07-17T18:20:13.991742Z"
    }
   },
   "outputs": [],
   "source": [
    "#One-Hot Encoding\n",
    "#перенесем города в отдельные колонки\n",
    "\n",
    "data['city'] = data['City'].copy()\n",
    "data = pd.get_dummies(data, columns=[ 'city',], dummy_na=True)"
   ]
  },
  {
   "cell_type": "markdown",
   "metadata": {},
   "source": [
    "# EDA \n",
    "[Exploratory Data Analysis](https://ru.wikipedia.org/wiki/Разведочный_анализ_данных) - Анализ данных\n",
    "На этом этапе мы строим графики, ищем закономерности, аномалии, выбросы или связи между признаками.\n",
    "В общем цель этого этапа понять, что эти данные могут нам дать и как признаки могут быть взаимосвязаны между собой.\n",
    "Понимание изначальных признаков позволит сгенерировать новые, более сильные и, тем самым, сделать нашу модель лучше.\n",
    "![](https://miro.medium.com/max/2598/1*RXdMb7Uk6mGqWqPguHULaQ.png)"
   ]
  },
  {
   "cell_type": "markdown",
   "metadata": {},
   "source": [
    "### Посмотрим распределение признака"
   ]
  },
  {
   "cell_type": "code",
   "execution_count": 41,
   "metadata": {
    "execution": {
     "iopub.execute_input": "2021-07-17T18:20:14.032827Z",
     "iopub.status.busy": "2021-07-17T18:20:14.032311Z",
     "iopub.status.idle": "2021-07-17T18:20:14.041649Z",
     "shell.execute_reply": "2021-07-17T18:20:14.040699Z",
     "shell.execute_reply.started": "2021-07-17T18:20:14.03277Z"
    }
   },
   "outputs": [
    {
     "data": {
      "text/plain": [
       "0        0.926855\n",
       "1        0.092901\n",
       "2        0.458664\n",
       "3        0.101496\n",
       "4        0.041620\n",
       "           ...   \n",
       "49995    0.079681\n",
       "49996    0.453382\n",
       "49997    0.670455\n",
       "49998    0.297586\n",
       "49999    0.769243\n",
       "Name: Ranking, Length: 50000, dtype: float64"
      ]
     },
     "execution_count": 41,
     "metadata": {},
     "output_type": "execute_result"
    }
   ],
   "source": [
    "data['Ranking']"
   ]
  },
  {
   "cell_type": "code",
   "execution_count": 42,
   "metadata": {
    "execution": {
     "iopub.execute_input": "2021-07-17T18:20:14.043533Z",
     "iopub.status.busy": "2021-07-17T18:20:14.042965Z",
     "iopub.status.idle": "2021-07-17T18:20:14.450776Z",
     "shell.execute_reply": "2021-07-17T18:20:14.450098Z",
     "shell.execute_reply.started": "2021-07-17T18:20:14.043481Z"
    }
   },
   "outputs": [
    {
     "data": {
      "text/plain": [
       "<matplotlib.axes._subplots.AxesSubplot at 0x1240ca520>"
      ]
     },
     "execution_count": 42,
     "metadata": {},
     "output_type": "execute_result"
    },
    {
     "data": {
      "image/png": "[encoded data removed]",
      "text/plain": [
       "<Figure size 720x504 with 1 Axes>"
      ]
     },
     "metadata": {
      "needs_background": "light"
     },
     "output_type": "display_data"
    }
   ],
   "source": [
    "plt.rcParams['figure.figsize'] = (10,7)\n",
    "df_train['Ranking'].hist(bins=100)"
   ]
  },
  {
   "cell_type": "markdown",
   "metadata": {},
   "source": [
    "У нас много ресторанов, которые не дотягивают и до 2500 места в своем городе, а что там по городам?"
   ]
  },
  {
   "cell_type": "code",
   "execution_count": 43,
   "metadata": {
    "execution": {
     "iopub.execute_input": "2021-07-17T18:20:14.45245Z",
     "iopub.status.busy": "2021-07-17T18:20:14.451964Z",
     "iopub.status.idle": "2021-07-17T18:20:14.819686Z",
     "shell.execute_reply": "2021-07-17T18:20:14.818853Z",
     "shell.execute_reply.started": "2021-07-17T18:20:14.452393Z"
    }
   },
   "outputs": [
    {
     "data": {
      "text/plain": [
       "<matplotlib.axes._subplots.AxesSubplot at 0x1244ba790>"
      ]
     },
     "execution_count": 43,
     "metadata": {},
     "output_type": "execute_result"
    },
    {
     "data": {
      "image/png": "[encoded data removed]",
      "text/plain": [
       "<Figure size 720x504 with 1 Axes>"
      ]
     },
     "metadata": {
      "needs_background": "light"
     },
     "output_type": "display_data"
    }
   ],
   "source": [
    "df_train['City'].value_counts(ascending=True).plot(kind='barh')"
   ]
  },
  {
   "cell_type": "markdown",
   "metadata": {},
   "source": [
    "А кто-то говорил, что французы любят поесть=) Посмотрим, как изменится распределение в большом городе:"
   ]
  },
  {
   "cell_type": "code",
   "execution_count": 44,
   "metadata": {
    "execution": {
     "iopub.execute_input": "2021-07-17T18:20:14.821504Z",
     "iopub.status.busy": "2021-07-17T18:20:14.820983Z",
     "iopub.status.idle": "2021-07-17T18:20:15.17995Z",
     "shell.execute_reply": "2021-07-17T18:20:15.178928Z",
     "shell.execute_reply.started": "2021-07-17T18:20:14.821446Z"
    }
   },
   "outputs": [
    {
     "data": {
      "text/plain": [
       "<matplotlib.axes._subplots.AxesSubplot at 0x1265a0a90>"
      ]
     },
     "execution_count": 44,
     "metadata": {},
     "output_type": "execute_result"
    },
    {
     "data": {
      "image/png": "[encoded data removed]",
      "text/plain": [
       "<Figure size 720x504 with 1 Axes>"
      ]
     },
     "metadata": {
      "needs_background": "light"
     },
     "output_type": "display_data"
    }
   ],
   "source": [
    "df_train['Ranking'][df_train['City'] =='London'].hist(bins=100)"
   ]
  },
  {
   "cell_type": "code",
   "execution_count": 45,
   "metadata": {
    "execution": {
     "iopub.execute_input": "2021-07-17T18:20:15.181856Z",
     "iopub.status.busy": "2021-07-17T18:20:15.181351Z",
     "iopub.status.idle": "2021-07-17T18:20:17.252064Z",
     "shell.execute_reply": "2021-07-17T18:20:17.251424Z",
     "shell.execute_reply.started": "2021-07-17T18:20:15.18165Z"
    }
   },
   "outputs": [
    {
     "data": {
      "image/png": "[encoded data removed]",
      "text/plain": [
       "<Figure size 720x504 with 1 Axes>"
      ]
     },
     "metadata": {
      "needs_background": "light"
     },
     "output_type": "display_data"
    }
   ],
   "source": [
    "# посмотрим на топ 10 городов\n",
    "for x in (df_train['City'].value_counts())[0:10].index:\n",
    "    df_train['Ranking'][df_train['City'] == x].hist(bins=100)\n",
    "plt.show()"
   ]
  },
  {
   "cell_type": "markdown",
   "metadata": {},
   "source": [
    "### Посмотрим распределение целевой переменной"
   ]
  },
  {
   "cell_type": "code",
   "execution_count": 46,
   "metadata": {
    "execution": {
     "iopub.execute_input": "2021-07-17T18:20:17.253833Z",
     "iopub.status.busy": "2021-07-17T18:20:17.253284Z",
     "iopub.status.idle": "2021-07-17T18:20:17.432361Z",
     "shell.execute_reply": "2021-07-17T18:20:17.431703Z",
     "shell.execute_reply.started": "2021-07-17T18:20:17.253776Z"
    }
   },
   "outputs": [
    {
     "data": {
      "text/plain": [
       "<matplotlib.axes._subplots.AxesSubplot at 0x1277b6910>"
      ]
     },
     "execution_count": 46,
     "metadata": {},
     "output_type": "execute_result"
    },
    {
     "data": {
      "image/png": "[encoded data removed]",
      "text/plain": [
       "<Figure size 720x504 with 1 Axes>"
      ]
     },
     "metadata": {
      "needs_background": "light"
     },
     "output_type": "display_data"
    }
   ],
   "source": [
    "df_train['Rating'].value_counts(ascending=True).plot(kind='barh')"
   ]
  },
  {
   "cell_type": "markdown",
   "metadata": {},
   "source": [
    "### Посмотрим распределение целевой переменной относительно признака"
   ]
  },
  {
   "cell_type": "code",
   "execution_count": 47,
   "metadata": {
    "execution": {
     "iopub.execute_input": "2021-07-17T18:20:17.434206Z",
     "iopub.status.busy": "2021-07-17T18:20:17.433663Z",
     "iopub.status.idle": "2021-07-17T18:20:17.89823Z",
     "shell.execute_reply": "2021-07-17T18:20:17.897262Z",
     "shell.execute_reply.started": "2021-07-17T18:20:17.434149Z"
    }
   },
   "outputs": [
    {
     "data": {
      "text/plain": [
       "<matplotlib.axes._subplots.AxesSubplot at 0x1281e4910>"
      ]
     },
     "execution_count": 47,
     "metadata": {},
     "output_type": "execute_result"
    },
    {
     "data": {
      "image/png": "[encoded data removed]",
      "text/plain": [
       "<Figure size 720x504 with 1 Axes>"
      ]
     },
     "metadata": {
      "needs_background": "light"
     },
     "output_type": "display_data"
    }
   ],
   "source": [
    "df_train['Ranking'][df_train['Rating'] == 5].hist(bins=100)"
   ]
  },
  {
   "cell_type": "code",
   "execution_count": 48,
   "metadata": {
    "execution": {
     "iopub.execute_input": "2021-07-17T18:20:17.899976Z",
     "iopub.status.busy": "2021-07-17T18:20:17.899673Z",
     "iopub.status.idle": "2021-07-17T18:20:18.25273Z",
     "shell.execute_reply": "2021-07-17T18:20:18.251836Z",
     "shell.execute_reply.started": "2021-07-17T18:20:17.899924Z"
    }
   },
   "outputs": [
    {
     "data": {
      "text/plain": [
       "<matplotlib.axes._subplots.AxesSubplot at 0x1284e7730>"
      ]
     },
     "execution_count": 48,
     "metadata": {},
     "output_type": "execute_result"
    },
    {
     "data": {
      "image/png": "[encoded data removed]",
      "text/plain": [
       "<Figure size 720x504 with 1 Axes>"
      ]
     },
     "metadata": {
      "needs_background": "light"
     },
     "output_type": "display_data"
    }
   ],
   "source": [
    "df_train['Ranking'][df_train['Rating'] < 4].hist(bins=100)"
   ]
  },
  {
   "cell_type": "markdown",
   "metadata": {},
   "source": [
    "### [корреляция признаков](https://ru.wikipedia.org/wiki/Корреляция)\n",
    "На этом графике уже сейчас вы сможете заметить, как признаки связаны между собой и с целевой переменной."
   ]
  },
  {
   "cell_type": "code",
   "execution_count": 49,
   "metadata": {
    "execution": {
     "iopub.execute_input": "2021-07-17T18:20:18.254458Z",
     "iopub.status.busy": "2021-07-17T18:20:18.253972Z",
     "iopub.status.idle": "2021-07-17T18:20:19.306128Z",
     "shell.execute_reply": "2021-07-17T18:20:19.305181Z",
     "shell.execute_reply.started": "2021-07-17T18:20:18.2544Z"
    }
   },
   "outputs": [
    {
     "data": {
      "text/plain": [
       "<matplotlib.axes._subplots.AxesSubplot at 0x128755c40>"
      ]
     },
     "execution_count": 49,
     "metadata": {},
     "output_type": "execute_result"
    },
    {
     "data": {
      "image/png": "[encoded data removed]",
      "text/plain": [
       "<Figure size 1080x720 with 2 Axes>"
      ]
     },
     "metadata": {
      "needs_background": "light"
     },
     "output_type": "display_data"
    }
   ],
   "source": [
    "plt.rcParams['figure.figsize'] = (15,10)\n",
    "sns.heatmap(data.drop(['sample'], axis=1).corr(),)"
   ]
  },
  {
   "cell_type": "code",
   "execution_count": 50,
   "metadata": {
    "execution": {
     "iopub.execute_input": "2021-07-17T18:20:19.307599Z",
     "iopub.status.busy": "2021-07-17T18:20:19.307279Z",
     "iopub.status.idle": "2021-07-17T18:20:19.362421Z",
     "shell.execute_reply": "2021-07-17T18:20:19.361565Z",
     "shell.execute_reply.started": "2021-07-17T18:20:19.307541Z"
    }
   },
   "outputs": [
    {
     "data": {
      "text/html": [
       "<div>\n",
       "<style scoped>\n",
       "    .dataframe tbody tr th:only-of-type {\n",
       "        vertical-align: middle;\n",
       "    }\n",
       "\n",
       "    .dataframe tbody tr th {\n",
       "        vertical-align: top;\n",
       "    }\n",
       "\n",
       "    .dataframe thead th {\n",
       "        text-align: right;\n",
       "    }\n",
       "</style>\n",
       "<table border=\"1\" class=\"dataframe\">\n",
       "  <thead>\n",
       "    <tr style=\"text-align: right;\">\n",
       "      <th></th>\n",
       "      <th>City</th>\n",
       "      <th>Cuisine Style</th>\n",
       "      <th>Ranking</th>\n",
       "      <th>Price Range</th>\n",
       "      <th>Number of Reviews</th>\n",
       "      <th>Reviews</th>\n",
       "      <th>ID_TA</th>\n",
       "      <th>sample</th>\n",
       "      <th>Rating</th>\n",
       "      <th>Number of Cuisine Styles</th>\n",
       "      <th>...</th>\n",
       "      <th>city_Oporto</th>\n",
       "      <th>city_Oslo</th>\n",
       "      <th>city_Paris</th>\n",
       "      <th>city_Prague</th>\n",
       "      <th>city_Rome</th>\n",
       "      <th>city_Stockholm</th>\n",
       "      <th>city_Vienna</th>\n",
       "      <th>city_Warsaw</th>\n",
       "      <th>city_Zurich</th>\n",
       "      <th>city_nan</th>\n",
       "    </tr>\n",
       "  </thead>\n",
       "  <tbody>\n",
       "    <tr>\n",
       "      <th>0</th>\n",
       "      <td>Paris</td>\n",
       "      <td>[Bar, Pub]</td>\n",
       "      <td>0.926855</td>\n",
       "      <td>2.0</td>\n",
       "      <td>4.0</td>\n",
       "      <td>,</td>\n",
       "      <td>d10746918</td>\n",
       "      <td>0</td>\n",
       "      <td>0.0</td>\n",
       "      <td>2</td>\n",
       "      <td>...</td>\n",
       "      <td>0</td>\n",
       "      <td>0</td>\n",
       "      <td>1</td>\n",
       "      <td>0</td>\n",
       "      <td>0</td>\n",
       "      <td>0</td>\n",
       "      <td>0</td>\n",
       "      <td>0</td>\n",
       "      <td>0</td>\n",
       "      <td>0</td>\n",
       "    </tr>\n",
       "    <tr>\n",
       "      <th>1</th>\n",
       "      <td>Helsinki</td>\n",
       "      <td>[European, Scandinavian, GlutenFreeOptions, Ve...</td>\n",
       "      <td>0.092901</td>\n",
       "      <td>2.0</td>\n",
       "      <td>97.0</td>\n",
       "      <td>'Verygoodreviews!','FinedininginHakaniemi','12...</td>\n",
       "      <td>d6674944</td>\n",
       "      <td>0</td>\n",
       "      <td>0.0</td>\n",
       "      <td>5</td>\n",
       "      <td>...</td>\n",
       "      <td>0</td>\n",
       "      <td>0</td>\n",
       "      <td>0</td>\n",
       "      <td>0</td>\n",
       "      <td>0</td>\n",
       "      <td>0</td>\n",
       "      <td>0</td>\n",
       "      <td>0</td>\n",
       "      <td>0</td>\n",
       "      <td>0</td>\n",
       "    </tr>\n",
       "    <tr>\n",
       "      <th>2</th>\n",
       "      <td>Edinburgh</td>\n",
       "      <td>[VegetarianFriendly]</td>\n",
       "      <td>0.458664</td>\n",
       "      <td>2.0</td>\n",
       "      <td>28.0</td>\n",
       "      <td>'BetterthantheLinks','IvyBlack','12/28/2017','...</td>\n",
       "      <td>d13129638</td>\n",
       "      <td>0</td>\n",
       "      <td>0.0</td>\n",
       "      <td>1</td>\n",
       "      <td>...</td>\n",
       "      <td>0</td>\n",
       "      <td>0</td>\n",
       "      <td>0</td>\n",
       "      <td>0</td>\n",
       "      <td>0</td>\n",
       "      <td>0</td>\n",
       "      <td>0</td>\n",
       "      <td>0</td>\n",
       "      <td>0</td>\n",
       "      <td>0</td>\n",
       "    </tr>\n",
       "    <tr>\n",
       "      <th>3</th>\n",
       "      <td>London</td>\n",
       "      <td>[Italian, Mediterranean, European, VegetarianF...</td>\n",
       "      <td>0.101496</td>\n",
       "      <td>3.0</td>\n",
       "      <td>202.0</td>\n",
       "      <td>'Mostexquisite','Deliciousandauthentic','12/06...</td>\n",
       "      <td>d680417</td>\n",
       "      <td>0</td>\n",
       "      <td>0.0</td>\n",
       "      <td>5</td>\n",
       "      <td>...</td>\n",
       "      <td>0</td>\n",
       "      <td>0</td>\n",
       "      <td>0</td>\n",
       "      <td>0</td>\n",
       "      <td>0</td>\n",
       "      <td>0</td>\n",
       "      <td>0</td>\n",
       "      <td>0</td>\n",
       "      <td>0</td>\n",
       "      <td>0</td>\n",
       "    </tr>\n",
       "    <tr>\n",
       "      <th>4</th>\n",
       "      <td>Bratislava</td>\n",
       "      <td>[Italian, Mediterranean, European, Seafood, Ve...</td>\n",
       "      <td>0.041620</td>\n",
       "      <td>3.0</td>\n",
       "      <td>162.0</td>\n",
       "      <td>'Alwaysthebestinbratislava','Verygoodbutpricey...</td>\n",
       "      <td>d1112354</td>\n",
       "      <td>0</td>\n",
       "      <td>0.0</td>\n",
       "      <td>6</td>\n",
       "      <td>...</td>\n",
       "      <td>0</td>\n",
       "      <td>0</td>\n",
       "      <td>0</td>\n",
       "      <td>0</td>\n",
       "      <td>0</td>\n",
       "      <td>0</td>\n",
       "      <td>0</td>\n",
       "      <td>0</td>\n",
       "      <td>0</td>\n",
       "      <td>0</td>\n",
       "    </tr>\n",
       "    <tr>\n",
       "      <th>...</th>\n",
       "      <td>...</td>\n",
       "      <td>...</td>\n",
       "      <td>...</td>\n",
       "      <td>...</td>\n",
       "      <td>...</td>\n",
       "      <td>...</td>\n",
       "      <td>...</td>\n",
       "      <td>...</td>\n",
       "      <td>...</td>\n",
       "      <td>...</td>\n",
       "      <td>...</td>\n",
       "      <td>...</td>\n",
       "      <td>...</td>\n",
       "      <td>...</td>\n",
       "      <td>...</td>\n",
       "      <td>...</td>\n",
       "      <td>...</td>\n",
       "      <td>...</td>\n",
       "      <td>...</td>\n",
       "      <td>...</td>\n",
       "      <td>...</td>\n",
       "    </tr>\n",
       "    <tr>\n",
       "      <th>49995</th>\n",
       "      <td>Milan</td>\n",
       "      <td>[Italian, VegetarianFriendly, VeganOptions, Gl...</td>\n",
       "      <td>0.079681</td>\n",
       "      <td>2.0</td>\n",
       "      <td>79.0</td>\n",
       "      <td>'TherealItalianexperience!','Wonderfulfood,won...</td>\n",
       "      <td>d2104414</td>\n",
       "      <td>1</td>\n",
       "      <td>4.5</td>\n",
       "      <td>4</td>\n",
       "      <td>...</td>\n",
       "      <td>0</td>\n",
       "      <td>0</td>\n",
       "      <td>0</td>\n",
       "      <td>0</td>\n",
       "      <td>0</td>\n",
       "      <td>0</td>\n",
       "      <td>0</td>\n",
       "      <td>0</td>\n",
       "      <td>0</td>\n",
       "      <td>0</td>\n",
       "    </tr>\n",
       "    <tr>\n",
       "      <th>49996</th>\n",
       "      <td>Paris</td>\n",
       "      <td>[French, American, Bar, European, VegetarianFr...</td>\n",
       "      <td>0.453382</td>\n",
       "      <td>2.0</td>\n",
       "      <td>542.0</td>\n",
       "      <td>'Parisianatmosphere','Bitpriceybutinterestingd...</td>\n",
       "      <td>d1800036</td>\n",
       "      <td>1</td>\n",
       "      <td>3.5</td>\n",
       "      <td>5</td>\n",
       "      <td>...</td>\n",
       "      <td>0</td>\n",
       "      <td>0</td>\n",
       "      <td>1</td>\n",
       "      <td>0</td>\n",
       "      <td>0</td>\n",
       "      <td>0</td>\n",
       "      <td>0</td>\n",
       "      <td>0</td>\n",
       "      <td>0</td>\n",
       "      <td>0</td>\n",
       "    </tr>\n",
       "    <tr>\n",
       "      <th>49997</th>\n",
       "      <td>Stockholm</td>\n",
       "      <td>[Japanese, Sushi]</td>\n",
       "      <td>0.670455</td>\n",
       "      <td>2.0</td>\n",
       "      <td>4.0</td>\n",
       "      <td>'Goodbyswedishstandards','Ahiddenjewelinthemid...</td>\n",
       "      <td>d947615</td>\n",
       "      <td>1</td>\n",
       "      <td>4.5</td>\n",
       "      <td>2</td>\n",
       "      <td>...</td>\n",
       "      <td>0</td>\n",
       "      <td>0</td>\n",
       "      <td>0</td>\n",
       "      <td>0</td>\n",
       "      <td>0</td>\n",
       "      <td>1</td>\n",
       "      <td>0</td>\n",
       "      <td>0</td>\n",
       "      <td>0</td>\n",
       "      <td>0</td>\n",
       "    </tr>\n",
       "    <tr>\n",
       "      <th>49998</th>\n",
       "      <td>Warsaw</td>\n",
       "      <td>[Polish, European, EasternEuropean, CentralEur...</td>\n",
       "      <td>0.297586</td>\n",
       "      <td>2.0</td>\n",
       "      <td>70.0</td>\n",
       "      <td>'Undergroundrestaurant','OldestRestaurantinWar...</td>\n",
       "      <td>d1100838</td>\n",
       "      <td>1</td>\n",
       "      <td>4.0</td>\n",
       "      <td>5</td>\n",
       "      <td>...</td>\n",
       "      <td>0</td>\n",
       "      <td>0</td>\n",
       "      <td>0</td>\n",
       "      <td>0</td>\n",
       "      <td>0</td>\n",
       "      <td>0</td>\n",
       "      <td>0</td>\n",
       "      <td>1</td>\n",
       "      <td>0</td>\n",
       "      <td>0</td>\n",
       "    </tr>\n",
       "    <tr>\n",
       "      <th>49999</th>\n",
       "      <td>Milan</td>\n",
       "      <td>[Spanish]</td>\n",
       "      <td>0.769243</td>\n",
       "      <td>2.0</td>\n",
       "      <td>260.0</td>\n",
       "      <td>'Average','Niceaninformal','01/31/2016','07/04...</td>\n",
       "      <td>d1109020</td>\n",
       "      <td>1</td>\n",
       "      <td>3.0</td>\n",
       "      <td>1</td>\n",
       "      <td>...</td>\n",
       "      <td>0</td>\n",
       "      <td>0</td>\n",
       "      <td>0</td>\n",
       "      <td>0</td>\n",
       "      <td>0</td>\n",
       "      <td>0</td>\n",
       "      <td>0</td>\n",
       "      <td>0</td>\n",
       "      <td>0</td>\n",
       "      <td>0</td>\n",
       "    </tr>\n",
       "  </tbody>\n",
       "</table>\n",
       "<p>50000 rows × 44 columns</p>\n",
       "</div>"
      ],
      "text/plain": [
       "             City                                      Cuisine Style  \\\n",
       "0           Paris                                         [Bar, Pub]   \n",
       "1        Helsinki  [European, Scandinavian, GlutenFreeOptions, Ve...   \n",
       "2       Edinburgh                               [VegetarianFriendly]   \n",
       "3          London  [Italian, Mediterranean, European, VegetarianF...   \n",
       "4      Bratislava  [Italian, Mediterranean, European, Seafood, Ve...   \n",
       "...           ...                                                ...   \n",
       "49995       Milan  [Italian, VegetarianFriendly, VeganOptions, Gl...   \n",
       "49996       Paris  [French, American, Bar, European, VegetarianFr...   \n",
       "49997   Stockholm                                  [Japanese, Sushi]   \n",
       "49998      Warsaw  [Polish, European, EasternEuropean, CentralEur...   \n",
       "49999       Milan                                          [Spanish]   \n",
       "\n",
       "        Ranking  Price Range  Number of Reviews  \\\n",
       "0      0.926855          2.0                4.0   \n",
       "1      0.092901          2.0               97.0   \n",
       "2      0.458664          2.0               28.0   \n",
       "3      0.101496          3.0              202.0   \n",
       "4      0.041620          3.0              162.0   \n",
       "...         ...          ...                ...   \n",
       "49995  0.079681          2.0               79.0   \n",
       "49996  0.453382          2.0              542.0   \n",
       "49997  0.670455          2.0                4.0   \n",
       "49998  0.297586          2.0               70.0   \n",
       "49999  0.769243          2.0              260.0   \n",
       "\n",
       "                                                 Reviews      ID_TA  sample  \\\n",
       "0                                                      ,  d10746918       0   \n",
       "1      'Verygoodreviews!','FinedininginHakaniemi','12...   d6674944       0   \n",
       "2      'BetterthantheLinks','IvyBlack','12/28/2017','...  d13129638       0   \n",
       "3      'Mostexquisite','Deliciousandauthentic','12/06...    d680417       0   \n",
       "4      'Alwaysthebestinbratislava','Verygoodbutpricey...   d1112354       0   \n",
       "...                                                  ...        ...     ...   \n",
       "49995  'TherealItalianexperience!','Wonderfulfood,won...   d2104414       1   \n",
       "49996  'Parisianatmosphere','Bitpriceybutinterestingd...   d1800036       1   \n",
       "49997  'Goodbyswedishstandards','Ahiddenjewelinthemid...    d947615       1   \n",
       "49998  'Undergroundrestaurant','OldestRestaurantinWar...   d1100838       1   \n",
       "49999  'Average','Niceaninformal','01/31/2016','07/04...   d1109020       1   \n",
       "\n",
       "       Rating  Number of Cuisine Styles  ... city_Oporto  city_Oslo  \\\n",
       "0         0.0                         2  ...           0          0   \n",
       "1         0.0                         5  ...           0          0   \n",
       "2         0.0                         1  ...           0          0   \n",
       "3         0.0                         5  ...           0          0   \n",
       "4         0.0                         6  ...           0          0   \n",
       "...       ...                       ...  ...         ...        ...   \n",
       "49995     4.5                         4  ...           0          0   \n",
       "49996     3.5                         5  ...           0          0   \n",
       "49997     4.5                         2  ...           0          0   \n",
       "49998     4.0                         5  ...           0          0   \n",
       "49999     3.0                         1  ...           0          0   \n",
       "\n",
       "       city_Paris  city_Prague  city_Rome  city_Stockholm  city_Vienna  \\\n",
       "0               1            0          0               0            0   \n",
       "1               0            0          0               0            0   \n",
       "2               0            0          0               0            0   \n",
       "3               0            0          0               0            0   \n",
       "4               0            0          0               0            0   \n",
       "...           ...          ...        ...             ...          ...   \n",
       "49995           0            0          0               0            0   \n",
       "49996           1            0          0               0            0   \n",
       "49997           0            0          0               1            0   \n",
       "49998           0            0          0               0            0   \n",
       "49999           0            0          0               0            0   \n",
       "\n",
       "       city_Warsaw  city_Zurich  city_nan  \n",
       "0                0            0         0  \n",
       "1                0            0         0  \n",
       "2                0            0         0  \n",
       "3                0            0         0  \n",
       "4                0            0         0  \n",
       "...            ...          ...       ...  \n",
       "49995            0            0         0  \n",
       "49996            0            0         0  \n",
       "49997            0            0         0  \n",
       "49998            1            0         0  \n",
       "49999            0            0         0  \n",
       "\n",
       "[50000 rows x 44 columns]"
      ]
     },
     "execution_count": 50,
     "metadata": {},
     "output_type": "execute_result"
    }
   ],
   "source": [
    "data"
   ]
  },
  {
   "cell_type": "markdown",
   "metadata": {},
   "source": [
    "# Data Preprocessing\n"
   ]
  },
  {
   "cell_type": "code",
   "execution_count": 51,
   "metadata": {
    "execution": {
     "iopub.execute_input": "2021-07-17T18:20:19.364223Z",
     "iopub.status.busy": "2021-07-17T18:20:19.363752Z",
     "iopub.status.idle": "2021-07-17T18:20:19.376534Z",
     "shell.execute_reply": "2021-07-17T18:20:19.375377Z",
     "shell.execute_reply.started": "2021-07-17T18:20:19.364168Z"
    }
   },
   "outputs": [],
   "source": [
    "# Удаляем лишние столбцы\n",
    "\n",
    "object_columns = [s for s in data.columns if data[s].dtypes == 'object']\n",
    "data.drop(object_columns, axis = 1, inplace=True)\n",
    "\n",
    "\n"
   ]
  },
  {
   "cell_type": "markdown",
   "metadata": {},
   "source": [
    "Запускаем и проверяем что получилось"
   ]
  },
  {
   "cell_type": "code",
   "execution_count": 52,
   "metadata": {
    "execution": {
     "iopub.execute_input": "2021-07-17T18:20:19.378622Z",
     "iopub.status.busy": "2021-07-17T18:20:19.378022Z",
     "iopub.status.idle": "2021-07-17T18:20:19.406153Z",
     "shell.execute_reply": "2021-07-17T18:20:19.405199Z",
     "shell.execute_reply.started": "2021-07-17T18:20:19.378307Z"
    }
   },
   "outputs": [],
   "source": [
    "# Теперь выделим тестовую часть\n",
    "train_data = data.query('sample == 1').drop(['sample'], axis=1)\n",
    "test_data = data.query('sample == 0').drop(['sample'], axis=1)\n",
    "\n",
    "y = train_data.Rating.values            # наш таргет\n",
    "X = train_data.drop(['Rating'], axis=1)"
   ]
  },
  {
   "cell_type": "markdown",
   "metadata": {},
   "source": [
    "**Перед тем как отправлять наши данные на обучение, разделим данные на еще один тест и трейн, для валидации. \n",
    "Это поможет нам проверить, как хорошо наша модель работает, до отправки submissiona на kaggle.**"
   ]
  },
  {
   "cell_type": "code",
   "execution_count": 53,
   "metadata": {
    "execution": {
     "iopub.execute_input": "2021-07-17T18:20:19.408023Z",
     "iopub.status.busy": "2021-07-17T18:20:19.407568Z",
     "iopub.status.idle": "2021-07-17T18:20:19.423621Z",
     "shell.execute_reply": "2021-07-17T18:20:19.422518Z",
     "shell.execute_reply.started": "2021-07-17T18:20:19.40783Z"
    }
   },
   "outputs": [],
   "source": [
    "# Воспользуемся специальной функцие train_test_split для разбивки тестовых данных\n",
    "# выделим 20% данных на валидацию (параметр test_size)\n",
    "X_train, X_test, y_train, y_test = train_test_split(X, y, test_size=0.2, random_state=RANDOM_SEED)"
   ]
  },
  {
   "cell_type": "code",
   "execution_count": 54,
   "metadata": {
    "execution": {
     "iopub.execute_input": "2021-07-17T18:20:19.425407Z",
     "iopub.status.busy": "2021-07-17T18:20:19.424969Z",
     "iopub.status.idle": "2021-07-17T18:20:19.432139Z",
     "shell.execute_reply": "2021-07-17T18:20:19.431251Z",
     "shell.execute_reply.started": "2021-07-17T18:20:19.425236Z"
    }
   },
   "outputs": [
    {
     "data": {
      "text/plain": [
       "((10000, 38), (40000, 38), (40000, 37), (32000, 37), (8000, 37))"
      ]
     },
     "execution_count": 54,
     "metadata": {},
     "output_type": "execute_result"
    }
   ],
   "source": [
    "# проверяем\n",
    "test_data.shape, train_data.shape, X.shape, X_train.shape, X_test.shape"
   ]
  },
  {
   "cell_type": "markdown",
   "metadata": {},
   "source": [
    "# Model \n",
    "Сам ML"
   ]
  },
  {
   "cell_type": "code",
   "execution_count": 55,
   "metadata": {
    "execution": {
     "iopub.execute_input": "2021-07-17T18:20:19.434276Z",
     "iopub.status.busy": "2021-07-17T18:20:19.433701Z",
     "iopub.status.idle": "2021-07-17T18:20:19.581616Z",
     "shell.execute_reply": "2021-07-17T18:20:19.580938Z",
     "shell.execute_reply.started": "2021-07-17T18:20:19.434217Z"
    }
   },
   "outputs": [],
   "source": [
    "# Импортируем необходимые библиотеки:\n",
    "from sklearn.ensemble import RandomForestRegressor # инструмент для создания и обучения модели\n",
    "from sklearn import metrics # инструменты для оценки точности модели"
   ]
  },
  {
   "cell_type": "code",
   "execution_count": 56,
   "metadata": {
    "execution": {
     "iopub.execute_input": "2021-07-17T18:20:19.583359Z",
     "iopub.status.busy": "2021-07-17T18:20:19.58286Z",
     "iopub.status.idle": "2021-07-17T18:20:19.588705Z",
     "shell.execute_reply": "2021-07-17T18:20:19.587732Z",
     "shell.execute_reply.started": "2021-07-17T18:20:19.583304Z"
    }
   },
   "outputs": [],
   "source": [
    "# Создаём модель (НАСТРОЙКИ НЕ ТРОГАЕМ)\n",
    "model = RandomForestRegressor(n_estimators=100, verbose=1, n_jobs=-1, random_state=RANDOM_SEED)"
   ]
  },
  {
   "cell_type": "code",
   "execution_count": 57,
   "metadata": {
    "execution": {
     "iopub.execute_input": "2021-07-17T18:20:19.590951Z",
     "iopub.status.busy": "2021-07-17T18:20:19.590355Z",
     "iopub.status.idle": "2021-07-17T18:20:26.07211Z",
     "shell.execute_reply": "2021-07-17T18:20:26.071205Z",
     "shell.execute_reply.started": "2021-07-17T18:20:19.590893Z"
    }
   },
   "outputs": [
    {
     "name": "stderr",
     "output_type": "stream",
     "text": [
      "[Parallel(n_jobs=-1)]: Using backend ThreadingBackend with 4 concurrent workers.\n",
      "[Parallel(n_jobs=-1)]: Done  42 tasks      | elapsed:    3.8s\n",
      "[Parallel(n_jobs=-1)]: Done 100 out of 100 | elapsed:    8.3s finished\n",
      "[Parallel(n_jobs=4)]: Using backend ThreadingBackend with 4 concurrent workers.\n",
      "[Parallel(n_jobs=4)]: Done  42 tasks      | elapsed:    0.0s\n",
      "[Parallel(n_jobs=4)]: Done 100 out of 100 | elapsed:    0.1s finished\n"
     ]
    }
   ],
   "source": [
    "# Обучаем модель на тестовом наборе данных\n",
    "model.fit(X_train, y_train)\n",
    "\n",
    "# Используем обученную модель для предсказания рейтинга ресторанов в тестовой выборке.\n",
    "# Предсказанные значения записываем в переменную y_pred\n",
    "y_pred = model.predict(X_test)\n",
    "y_pred = np.round(y_pred*2)/2"
   ]
  },
  {
   "cell_type": "code",
   "execution_count": 58,
   "metadata": {
    "execution": {
     "iopub.execute_input": "2021-07-17T18:20:26.074145Z",
     "iopub.status.busy": "2021-07-17T18:20:26.073804Z",
     "iopub.status.idle": "2021-07-17T18:20:26.079908Z",
     "shell.execute_reply": "2021-07-17T18:20:26.079146Z",
     "shell.execute_reply.started": "2021-07-17T18:20:26.074076Z"
    }
   },
   "outputs": [
    {
     "name": "stdout",
     "output_type": "stream",
     "text": [
      "MAE: 0.1743125\n"
     ]
    }
   ],
   "source": [
    "# Сравниваем предсказанные значения (y_pred) с реальными (y_test), и смотрим насколько они в среднем отличаются\n",
    "# Метрика называется Mean Absolute Error (MAE) и показывает среднее отклонение предсказанных значений от фактических.\n",
    "print('MAE:', metrics.mean_absolute_error(y_test, y_pred))"
   ]
  },
  {
   "cell_type": "code",
   "execution_count": 59,
   "metadata": {
    "execution": {
     "iopub.execute_input": "2021-07-17T18:20:26.081878Z",
     "iopub.status.busy": "2021-07-17T18:20:26.081556Z",
     "iopub.status.idle": "2021-07-17T18:20:26.418513Z",
     "shell.execute_reply": "2021-07-17T18:20:26.417895Z",
     "shell.execute_reply.started": "2021-07-17T18:20:26.081815Z"
    }
   },
   "outputs": [
    {
     "data": {
      "text/plain": [
       "<matplotlib.axes._subplots.AxesSubplot at 0x12b47ab80>"
      ]
     },
     "execution_count": 59,
     "metadata": {},
     "output_type": "execute_result"
    },
    {
     "data": {
      "image/png": "[encoded data removed]",
      "text/plain": [
       "<Figure size 720x720 with 1 Axes>"
      ]
     },
     "metadata": {
      "needs_background": "light"
     },
     "output_type": "display_data"
    }
   ],
   "source": [
    "# в RandomForestRegressor есть возможность вывести самые важные признаки для модели\n",
    "plt.rcParams['figure.figsize'] = (10,10)\n",
    "feat_importances = pd.Series(model.feature_importances_, index=X.columns)\n",
    "feat_importances.nlargest(15).plot(kind='barh')"
   ]
  },
  {
   "cell_type": "markdown",
   "metadata": {},
   "source": [
    "# Submission\n",
    "Если все устраевает - готовим Submission на кагл"
   ]
  },
  {
   "cell_type": "code",
   "execution_count": 60,
   "metadata": {
    "execution": {
     "iopub.execute_input": "2021-07-17T18:20:26.419973Z",
     "iopub.status.busy": "2021-07-17T18:20:26.419585Z",
     "iopub.status.idle": "2021-07-17T18:20:26.460374Z",
     "shell.execute_reply": "2021-07-17T18:20:26.45955Z",
     "shell.execute_reply.started": "2021-07-17T18:20:26.419933Z"
    }
   },
   "outputs": [
    {
     "data": {
      "text/html": [
       "<div>\n",
       "<style scoped>\n",
       "    .dataframe tbody tr th:only-of-type {\n",
       "        vertical-align: middle;\n",
       "    }\n",
       "\n",
       "    .dataframe tbody tr th {\n",
       "        vertical-align: top;\n",
       "    }\n",
       "\n",
       "    .dataframe thead th {\n",
       "        text-align: right;\n",
       "    }\n",
       "</style>\n",
       "<table border=\"1\" class=\"dataframe\">\n",
       "  <thead>\n",
       "    <tr style=\"text-align: right;\">\n",
       "      <th></th>\n",
       "      <th>Ranking</th>\n",
       "      <th>Price Range</th>\n",
       "      <th>Number of Reviews</th>\n",
       "      <th>Rating</th>\n",
       "      <th>Number of Cuisine Styles</th>\n",
       "      <th>date_of_Review_difference</th>\n",
       "      <th>city_Amsterdam</th>\n",
       "      <th>city_Athens</th>\n",
       "      <th>city_Barcelona</th>\n",
       "      <th>city_Berlin</th>\n",
       "      <th>...</th>\n",
       "      <th>city_Oporto</th>\n",
       "      <th>city_Oslo</th>\n",
       "      <th>city_Paris</th>\n",
       "      <th>city_Prague</th>\n",
       "      <th>city_Rome</th>\n",
       "      <th>city_Stockholm</th>\n",
       "      <th>city_Vienna</th>\n",
       "      <th>city_Warsaw</th>\n",
       "      <th>city_Zurich</th>\n",
       "      <th>city_nan</th>\n",
       "    </tr>\n",
       "  </thead>\n",
       "  <tbody>\n",
       "    <tr>\n",
       "      <th>7632</th>\n",
       "      <td>0.084686</td>\n",
       "      <td>1.0</td>\n",
       "      <td>141.0</td>\n",
       "      <td>0.0</td>\n",
       "      <td>6</td>\n",
       "      <td>49.0</td>\n",
       "      <td>0</td>\n",
       "      <td>0</td>\n",
       "      <td>0</td>\n",
       "      <td>0</td>\n",
       "      <td>...</td>\n",
       "      <td>0</td>\n",
       "      <td>0</td>\n",
       "      <td>0</td>\n",
       "      <td>0</td>\n",
       "      <td>0</td>\n",
       "      <td>0</td>\n",
       "      <td>0</td>\n",
       "      <td>0</td>\n",
       "      <td>0</td>\n",
       "      <td>0</td>\n",
       "    </tr>\n",
       "    <tr>\n",
       "      <th>6262</th>\n",
       "      <td>0.446955</td>\n",
       "      <td>2.0</td>\n",
       "      <td>6.0</td>\n",
       "      <td>0.0</td>\n",
       "      <td>3</td>\n",
       "      <td>189.0</td>\n",
       "      <td>0</td>\n",
       "      <td>0</td>\n",
       "      <td>0</td>\n",
       "      <td>1</td>\n",
       "      <td>...</td>\n",
       "      <td>0</td>\n",
       "      <td>0</td>\n",
       "      <td>0</td>\n",
       "      <td>0</td>\n",
       "      <td>0</td>\n",
       "      <td>0</td>\n",
       "      <td>0</td>\n",
       "      <td>0</td>\n",
       "      <td>0</td>\n",
       "      <td>0</td>\n",
       "    </tr>\n",
       "    <tr>\n",
       "      <th>6623</th>\n",
       "      <td>0.544382</td>\n",
       "      <td>2.0</td>\n",
       "      <td>0.0</td>\n",
       "      <td>0.0</td>\n",
       "      <td>1</td>\n",
       "      <td>123.0</td>\n",
       "      <td>0</td>\n",
       "      <td>0</td>\n",
       "      <td>1</td>\n",
       "      <td>0</td>\n",
       "      <td>...</td>\n",
       "      <td>0</td>\n",
       "      <td>0</td>\n",
       "      <td>0</td>\n",
       "      <td>0</td>\n",
       "      <td>0</td>\n",
       "      <td>0</td>\n",
       "      <td>0</td>\n",
       "      <td>0</td>\n",
       "      <td>0</td>\n",
       "      <td>0</td>\n",
       "    </tr>\n",
       "    <tr>\n",
       "      <th>8980</th>\n",
       "      <td>0.632230</td>\n",
       "      <td>2.0</td>\n",
       "      <td>8.0</td>\n",
       "      <td>0.0</td>\n",
       "      <td>1</td>\n",
       "      <td>123.0</td>\n",
       "      <td>0</td>\n",
       "      <td>0</td>\n",
       "      <td>0</td>\n",
       "      <td>0</td>\n",
       "      <td>...</td>\n",
       "      <td>0</td>\n",
       "      <td>0</td>\n",
       "      <td>0</td>\n",
       "      <td>0</td>\n",
       "      <td>0</td>\n",
       "      <td>0</td>\n",
       "      <td>0</td>\n",
       "      <td>0</td>\n",
       "      <td>0</td>\n",
       "      <td>0</td>\n",
       "    </tr>\n",
       "    <tr>\n",
       "      <th>752</th>\n",
       "      <td>0.603342</td>\n",
       "      <td>2.0</td>\n",
       "      <td>12.0</td>\n",
       "      <td>0.0</td>\n",
       "      <td>2</td>\n",
       "      <td>80.0</td>\n",
       "      <td>0</td>\n",
       "      <td>0</td>\n",
       "      <td>0</td>\n",
       "      <td>0</td>\n",
       "      <td>...</td>\n",
       "      <td>0</td>\n",
       "      <td>1</td>\n",
       "      <td>0</td>\n",
       "      <td>0</td>\n",
       "      <td>0</td>\n",
       "      <td>0</td>\n",
       "      <td>0</td>\n",
       "      <td>0</td>\n",
       "      <td>0</td>\n",
       "      <td>0</td>\n",
       "    </tr>\n",
       "    <tr>\n",
       "      <th>5565</th>\n",
       "      <td>0.103368</td>\n",
       "      <td>1.0</td>\n",
       "      <td>57.0</td>\n",
       "      <td>0.0</td>\n",
       "      <td>6</td>\n",
       "      <td>68.0</td>\n",
       "      <td>0</td>\n",
       "      <td>0</td>\n",
       "      <td>0</td>\n",
       "      <td>0</td>\n",
       "      <td>...</td>\n",
       "      <td>0</td>\n",
       "      <td>0</td>\n",
       "      <td>0</td>\n",
       "      <td>0</td>\n",
       "      <td>0</td>\n",
       "      <td>0</td>\n",
       "      <td>1</td>\n",
       "      <td>0</td>\n",
       "      <td>0</td>\n",
       "      <td>0</td>\n",
       "    </tr>\n",
       "    <tr>\n",
       "      <th>9872</th>\n",
       "      <td>0.870834</td>\n",
       "      <td>2.0</td>\n",
       "      <td>79.0</td>\n",
       "      <td>0.0</td>\n",
       "      <td>3</td>\n",
       "      <td>11.0</td>\n",
       "      <td>0</td>\n",
       "      <td>0</td>\n",
       "      <td>0</td>\n",
       "      <td>0</td>\n",
       "      <td>...</td>\n",
       "      <td>0</td>\n",
       "      <td>0</td>\n",
       "      <td>0</td>\n",
       "      <td>0</td>\n",
       "      <td>0</td>\n",
       "      <td>0</td>\n",
       "      <td>0</td>\n",
       "      <td>0</td>\n",
       "      <td>0</td>\n",
       "      <td>0</td>\n",
       "    </tr>\n",
       "    <tr>\n",
       "      <th>1568</th>\n",
       "      <td>0.466932</td>\n",
       "      <td>1.0</td>\n",
       "      <td>88.0</td>\n",
       "      <td>0.0</td>\n",
       "      <td>4</td>\n",
       "      <td>5.0</td>\n",
       "      <td>0</td>\n",
       "      <td>0</td>\n",
       "      <td>0</td>\n",
       "      <td>0</td>\n",
       "      <td>...</td>\n",
       "      <td>0</td>\n",
       "      <td>0</td>\n",
       "      <td>0</td>\n",
       "      <td>0</td>\n",
       "      <td>0</td>\n",
       "      <td>0</td>\n",
       "      <td>0</td>\n",
       "      <td>0</td>\n",
       "      <td>0</td>\n",
       "      <td>0</td>\n",
       "    </tr>\n",
       "    <tr>\n",
       "      <th>937</th>\n",
       "      <td>0.566534</td>\n",
       "      <td>2.0</td>\n",
       "      <td>4.0</td>\n",
       "      <td>0.0</td>\n",
       "      <td>1</td>\n",
       "      <td>123.0</td>\n",
       "      <td>0</td>\n",
       "      <td>0</td>\n",
       "      <td>0</td>\n",
       "      <td>0</td>\n",
       "      <td>...</td>\n",
       "      <td>0</td>\n",
       "      <td>0</td>\n",
       "      <td>0</td>\n",
       "      <td>0</td>\n",
       "      <td>0</td>\n",
       "      <td>0</td>\n",
       "      <td>0</td>\n",
       "      <td>0</td>\n",
       "      <td>0</td>\n",
       "      <td>0</td>\n",
       "    </tr>\n",
       "    <tr>\n",
       "      <th>3298</th>\n",
       "      <td>0.327920</td>\n",
       "      <td>2.0</td>\n",
       "      <td>25.0</td>\n",
       "      <td>0.0</td>\n",
       "      <td>3</td>\n",
       "      <td>289.0</td>\n",
       "      <td>0</td>\n",
       "      <td>0</td>\n",
       "      <td>0</td>\n",
       "      <td>0</td>\n",
       "      <td>...</td>\n",
       "      <td>0</td>\n",
       "      <td>0</td>\n",
       "      <td>0</td>\n",
       "      <td>0</td>\n",
       "      <td>0</td>\n",
       "      <td>0</td>\n",
       "      <td>0</td>\n",
       "      <td>0</td>\n",
       "      <td>1</td>\n",
       "      <td>0</td>\n",
       "    </tr>\n",
       "  </tbody>\n",
       "</table>\n",
       "<p>10 rows × 38 columns</p>\n",
       "</div>"
      ],
      "text/plain": [
       "       Ranking  Price Range  Number of Reviews  Rating  \\\n",
       "7632  0.084686          1.0              141.0     0.0   \n",
       "6262  0.446955          2.0                6.0     0.0   \n",
       "6623  0.544382          2.0                0.0     0.0   \n",
       "8980  0.632230          2.0                8.0     0.0   \n",
       "752   0.603342          2.0               12.0     0.0   \n",
       "5565  0.103368          1.0               57.0     0.0   \n",
       "9872  0.870834          2.0               79.0     0.0   \n",
       "1568  0.466932          1.0               88.0     0.0   \n",
       "937   0.566534          2.0                4.0     0.0   \n",
       "3298  0.327920          2.0               25.0     0.0   \n",
       "\n",
       "      Number of Cuisine Styles  date_of_Review_difference  city_Amsterdam  \\\n",
       "7632                         6                       49.0               0   \n",
       "6262                         3                      189.0               0   \n",
       "6623                         1                      123.0               0   \n",
       "8980                         1                      123.0               0   \n",
       "752                          2                       80.0               0   \n",
       "5565                         6                       68.0               0   \n",
       "9872                         3                       11.0               0   \n",
       "1568                         4                        5.0               0   \n",
       "937                          1                      123.0               0   \n",
       "3298                         3                      289.0               0   \n",
       "\n",
       "      city_Athens  city_Barcelona  city_Berlin  ...  city_Oporto  city_Oslo  \\\n",
       "7632            0               0            0  ...            0          0   \n",
       "6262            0               0            1  ...            0          0   \n",
       "6623            0               1            0  ...            0          0   \n",
       "8980            0               0            0  ...            0          0   \n",
       "752             0               0            0  ...            0          1   \n",
       "5565            0               0            0  ...            0          0   \n",
       "9872            0               0            0  ...            0          0   \n",
       "1568            0               0            0  ...            0          0   \n",
       "937             0               0            0  ...            0          0   \n",
       "3298            0               0            0  ...            0          0   \n",
       "\n",
       "      city_Paris  city_Prague  city_Rome  city_Stockholm  city_Vienna  \\\n",
       "7632           0            0          0               0            0   \n",
       "6262           0            0          0               0            0   \n",
       "6623           0            0          0               0            0   \n",
       "8980           0            0          0               0            0   \n",
       "752            0            0          0               0            0   \n",
       "5565           0            0          0               0            1   \n",
       "9872           0            0          0               0            0   \n",
       "1568           0            0          0               0            0   \n",
       "937            0            0          0               0            0   \n",
       "3298           0            0          0               0            0   \n",
       "\n",
       "      city_Warsaw  city_Zurich  city_nan  \n",
       "7632            0            0         0  \n",
       "6262            0            0         0  \n",
       "6623            0            0         0  \n",
       "8980            0            0         0  \n",
       "752             0            0         0  \n",
       "5565            0            0         0  \n",
       "9872            0            0         0  \n",
       "1568            0            0         0  \n",
       "937             0            0         0  \n",
       "3298            0            1         0  \n",
       "\n",
       "[10 rows x 38 columns]"
      ]
     },
     "execution_count": 60,
     "metadata": {},
     "output_type": "execute_result"
    }
   ],
   "source": [
    "test_data.sample(10)"
   ]
  },
  {
   "cell_type": "code",
   "execution_count": 61,
   "metadata": {
    "execution": {
     "iopub.execute_input": "2021-07-17T18:20:26.462196Z",
     "iopub.status.busy": "2021-07-17T18:20:26.461726Z",
     "iopub.status.idle": "2021-07-17T18:20:26.468314Z",
     "shell.execute_reply": "2021-07-17T18:20:26.467544Z",
     "shell.execute_reply.started": "2021-07-17T18:20:26.462142Z"
    }
   },
   "outputs": [],
   "source": [
    "test_data = test_data.drop(['Rating'], axis=1)"
   ]
  },
  {
   "cell_type": "code",
   "execution_count": 62,
   "metadata": {
    "execution": {
     "iopub.execute_input": "2021-07-17T18:20:26.47028Z",
     "iopub.status.busy": "2021-07-17T18:20:26.469656Z",
     "iopub.status.idle": "2021-07-17T18:20:26.489091Z",
     "shell.execute_reply": "2021-07-17T18:20:26.488246Z",
     "shell.execute_reply.started": "2021-07-17T18:20:26.470224Z"
    }
   },
   "outputs": [
    {
     "data": {
      "text/html": [
       "<div>\n",
       "<style scoped>\n",
       "    .dataframe tbody tr th:only-of-type {\n",
       "        vertical-align: middle;\n",
       "    }\n",
       "\n",
       "    .dataframe tbody tr th {\n",
       "        vertical-align: top;\n",
       "    }\n",
       "\n",
       "    .dataframe thead th {\n",
       "        text-align: right;\n",
       "    }\n",
       "</style>\n",
       "<table border=\"1\" class=\"dataframe\">\n",
       "  <thead>\n",
       "    <tr style=\"text-align: right;\">\n",
       "      <th></th>\n",
       "      <th>Restaurant_id</th>\n",
       "      <th>Rating</th>\n",
       "    </tr>\n",
       "  </thead>\n",
       "  <tbody>\n",
       "    <tr>\n",
       "      <th>0</th>\n",
       "      <td>id_0</td>\n",
       "      <td>2.0</td>\n",
       "    </tr>\n",
       "    <tr>\n",
       "      <th>1</th>\n",
       "      <td>id_1</td>\n",
       "      <td>2.5</td>\n",
       "    </tr>\n",
       "    <tr>\n",
       "      <th>2</th>\n",
       "      <td>id_2</td>\n",
       "      <td>4.0</td>\n",
       "    </tr>\n",
       "    <tr>\n",
       "      <th>3</th>\n",
       "      <td>id_3</td>\n",
       "      <td>1.0</td>\n",
       "    </tr>\n",
       "    <tr>\n",
       "      <th>4</th>\n",
       "      <td>id_4</td>\n",
       "      <td>4.0</td>\n",
       "    </tr>\n",
       "    <tr>\n",
       "      <th>...</th>\n",
       "      <td>...</td>\n",
       "      <td>...</td>\n",
       "    </tr>\n",
       "    <tr>\n",
       "      <th>9995</th>\n",
       "      <td>id_9995</td>\n",
       "      <td>3.0</td>\n",
       "    </tr>\n",
       "    <tr>\n",
       "      <th>9996</th>\n",
       "      <td>id_9996</td>\n",
       "      <td>1.5</td>\n",
       "    </tr>\n",
       "    <tr>\n",
       "      <th>9997</th>\n",
       "      <td>id_9997</td>\n",
       "      <td>4.5</td>\n",
       "    </tr>\n",
       "    <tr>\n",
       "      <th>9998</th>\n",
       "      <td>id_9998</td>\n",
       "      <td>1.0</td>\n",
       "    </tr>\n",
       "    <tr>\n",
       "      <th>9999</th>\n",
       "      <td>id_9999</td>\n",
       "      <td>2.5</td>\n",
       "    </tr>\n",
       "  </tbody>\n",
       "</table>\n",
       "<p>10000 rows × 2 columns</p>\n",
       "</div>"
      ],
      "text/plain": [
       "     Restaurant_id  Rating\n",
       "0             id_0     2.0\n",
       "1             id_1     2.5\n",
       "2             id_2     4.0\n",
       "3             id_3     1.0\n",
       "4             id_4     4.0\n",
       "...            ...     ...\n",
       "9995       id_9995     3.0\n",
       "9996       id_9996     1.5\n",
       "9997       id_9997     4.5\n",
       "9998       id_9998     1.0\n",
       "9999       id_9999     2.5\n",
       "\n",
       "[10000 rows x 2 columns]"
      ]
     },
     "execution_count": 62,
     "metadata": {},
     "output_type": "execute_result"
    }
   ],
   "source": [
    "sample_submission"
   ]
  },
  {
   "cell_type": "code",
   "execution_count": 63,
   "metadata": {
    "execution": {
     "iopub.execute_input": "2021-07-17T18:20:26.490775Z",
     "iopub.status.busy": "2021-07-17T18:20:26.490274Z",
     "iopub.status.idle": "2021-07-17T18:20:26.601976Z",
     "shell.execute_reply": "2021-07-17T18:20:26.600971Z",
     "shell.execute_reply.started": "2021-07-17T18:20:26.490612Z"
    }
   },
   "outputs": [
    {
     "name": "stderr",
     "output_type": "stream",
     "text": [
      "[Parallel(n_jobs=4)]: Using backend ThreadingBackend with 4 concurrent workers.\n",
      "[Parallel(n_jobs=4)]: Done  42 tasks      | elapsed:    0.1s\n",
      "[Parallel(n_jobs=4)]: Done 100 out of 100 | elapsed:    0.1s finished\n"
     ]
    }
   ],
   "source": [
    "predict_submission = model.predict(test_data)"
   ]
  },
  {
   "cell_type": "code",
   "execution_count": 64,
   "metadata": {
    "execution": {
     "iopub.execute_input": "2021-07-17T18:20:26.603537Z",
     "iopub.status.busy": "2021-07-17T18:20:26.60319Z",
     "iopub.status.idle": "2021-07-17T18:20:26.609127Z",
     "shell.execute_reply": "2021-07-17T18:20:26.608136Z",
     "shell.execute_reply.started": "2021-07-17T18:20:26.603471Z"
    }
   },
   "outputs": [
    {
     "data": {
      "text/plain": [
       "array([3.02 , 4.36 , 4.445, ..., 3.1  , 4.5  , 4.22 ])"
      ]
     },
     "execution_count": 64,
     "metadata": {},
     "output_type": "execute_result"
    }
   ],
   "source": [
    "predict_submission"
   ]
  },
  {
   "cell_type": "code",
   "execution_count": 65,
   "metadata": {
    "execution": {
     "iopub.execute_input": "2021-07-17T18:20:26.610716Z",
     "iopub.status.busy": "2021-07-17T18:20:26.610451Z",
     "iopub.status.idle": "2021-07-17T18:20:27.013465Z",
     "shell.execute_reply": "2021-07-17T18:20:27.012523Z",
     "shell.execute_reply.started": "2021-07-17T18:20:26.610669Z"
    }
   },
   "outputs": [
    {
     "data": {
      "text/html": [
       "<div>\n",
       "<style scoped>\n",
       "    .dataframe tbody tr th:only-of-type {\n",
       "        vertical-align: middle;\n",
       "    }\n",
       "\n",
       "    .dataframe tbody tr th {\n",
       "        vertical-align: top;\n",
       "    }\n",
       "\n",
       "    .dataframe thead th {\n",
       "        text-align: right;\n",
       "    }\n",
       "</style>\n",
       "<table border=\"1\" class=\"dataframe\">\n",
       "  <thead>\n",
       "    <tr style=\"text-align: right;\">\n",
       "      <th></th>\n",
       "      <th>Restaurant_id</th>\n",
       "      <th>Rating</th>\n",
       "    </tr>\n",
       "  </thead>\n",
       "  <tbody>\n",
       "    <tr>\n",
       "      <th>0</th>\n",
       "      <td>id_0</td>\n",
       "      <td>3.020</td>\n",
       "    </tr>\n",
       "    <tr>\n",
       "      <th>1</th>\n",
       "      <td>id_1</td>\n",
       "      <td>4.360</td>\n",
       "    </tr>\n",
       "    <tr>\n",
       "      <th>2</th>\n",
       "      <td>id_2</td>\n",
       "      <td>4.445</td>\n",
       "    </tr>\n",
       "    <tr>\n",
       "      <th>3</th>\n",
       "      <td>id_3</td>\n",
       "      <td>4.300</td>\n",
       "    </tr>\n",
       "    <tr>\n",
       "      <th>4</th>\n",
       "      <td>id_4</td>\n",
       "      <td>4.495</td>\n",
       "    </tr>\n",
       "    <tr>\n",
       "      <th>5</th>\n",
       "      <td>id_5</td>\n",
       "      <td>4.455</td>\n",
       "    </tr>\n",
       "    <tr>\n",
       "      <th>6</th>\n",
       "      <td>id_6</td>\n",
       "      <td>1.285</td>\n",
       "    </tr>\n",
       "    <tr>\n",
       "      <th>7</th>\n",
       "      <td>id_7</td>\n",
       "      <td>3.585</td>\n",
       "    </tr>\n",
       "    <tr>\n",
       "      <th>8</th>\n",
       "      <td>id_8</td>\n",
       "      <td>4.185</td>\n",
       "    </tr>\n",
       "    <tr>\n",
       "      <th>9</th>\n",
       "      <td>id_9</td>\n",
       "      <td>4.690</td>\n",
       "    </tr>\n",
       "  </tbody>\n",
       "</table>\n",
       "</div>"
      ],
      "text/plain": [
       "  Restaurant_id  Rating\n",
       "0          id_0   3.020\n",
       "1          id_1   4.360\n",
       "2          id_2   4.445\n",
       "3          id_3   4.300\n",
       "4          id_4   4.495\n",
       "5          id_5   4.455\n",
       "6          id_6   1.285\n",
       "7          id_7   3.585\n",
       "8          id_8   4.185\n",
       "9          id_9   4.690"
      ]
     },
     "execution_count": 65,
     "metadata": {},
     "output_type": "execute_result"
    }
   ],
   "source": [
    "sample_submission['Rating'] = predict_submission\n",
    "sample_submission.to_csv('submission.csv', index=False)\n",
    "sample_submission.head(10)"
   ]
  },
  {
   "cell_type": "code",
   "execution_count": null,
   "metadata": {},
   "outputs": [],
   "source": []
  }
 ],
 "metadata": {
  "kernelspec": {
   "display_name": "Python 3",
   "language": "python",
   "name": "python3"
  },
  "language_info": {
   "codemirror_mode": {
    "name": "ipython",
    "version": 3
   },
   "file_extension": ".py",
   "mimetype": "text/x-python",
   "name": "python",
   "nbconvert_exporter": "python",
   "pygments_lexer": "ipython3",
   "version": "3.8.3"
  }
 },
 "nbformat": 4,
 "nbformat_minor": 4
}
